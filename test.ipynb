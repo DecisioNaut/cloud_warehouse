{
 "cells": [
  {
   "cell_type": "code",
   "execution_count": 44,
   "metadata": {},
   "outputs": [
    {
     "name": "stdout",
     "output_type": "stream",
     "text": [
      "'dwhcluster.cu0kxfsouwy2.us-west-2.redshift.amazonaws.com' dwh dwhuser Passw0rd 5439\n"
     ]
    }
   ],
   "source": [
    "import configparser\n",
    "import psycopg2\n",
    "config = configparser.ConfigParser()\n",
    "config.read(\"dwh.cfg\")\n",
    "print(*config[\"REDSHIFT\"].values())"
   ]
  },
  {
   "cell_type": "code",
   "execution_count": 63,
   "metadata": {},
   "outputs": [],
   "source": [
    "connection = psycopg2.connect(\n",
    "    \"host={} dbname={} user={} password={} port={}\".format(\n",
    "        *config[\"REDSHIFT\"].values()\n",
    "    )\n",
    ")\n",
    "cursor = connection.cursor()"
   ]
  },
  {
   "cell_type": "code",
   "execution_count": 68,
   "metadata": {},
   "outputs": [],
   "source": [
    "query = \"\"\"\n",
    "WITH \n",
    "    user_log_data AS (\n",
    "        SELECT\n",
    "            userId AS user_id,\n",
    "            firstName AS first_name,\n",
    "            lastName AS last_name,\n",
    "            gender,\n",
    "            level,\n",
    "            TIMESTAMP 'epoch' + ts/1000 * INTERVAL '1 second' AS time\n",
    "        FROM\n",
    "            log_data\n",
    "        WHERE\n",
    "            auth = 'Logged In' AND\n",
    "            length > 0\n",
    "    ), \n",
    "    max_user_times AS (\n",
    "        SELECT\n",
    "            user_id,\n",
    "            MAX(time) AS max_time\n",
    "        FROM\n",
    "            user_log_data\n",
    "        GROUP BY\n",
    "            user_id\n",
    "    )\n",
    "SELECT\n",
    "    user_log_data.user_id,\n",
    "    user_log_data.first_name,\n",
    "    user_log_data.last_name,\n",
    "    user_log_data.gender,\n",
    "    user_log_data.level\n",
    "FROM\n",
    "    user_log_data\n",
    "JOIN\n",
    "    max_user_times\n",
    "ON\n",
    "    user_log_data.user_id = max_user_times.user_id AND\n",
    "    user_log_data.time = max_user_times.max_time;\n",
    "\"\"\"\n",
    "\n",
    "cursor.execute(query)\n",
    "\n",
    "rows = cursor.fetchall()\n",
    "for row in rows:\n",
    "    print(row)"
   ]
  },
  {
   "cell_type": "code",
   "execution_count": 73,
   "metadata": {},
   "outputs": [
    {
     "ename": "SyntaxError",
     "evalue": "syntax error at or near \"END\"\nLINE 41: END WITH\n         ^\n",
     "output_type": "error",
     "traceback": [
      "\u001b[0;31m---------------------------------------------------------------------------\u001b[0m",
      "\u001b[0;31mSyntaxError\u001b[0m                               Traceback (most recent call last)",
      "Cell \u001b[0;32mIn[73], line 45\u001b[0m\n\u001b[1;32m      1\u001b[0m query \u001b[39m=\u001b[39m \u001b[39m\"\"\"\u001b[39m\n\u001b[1;32m      2\u001b[0m \u001b[39mWITH \u001b[39m\n\u001b[1;32m      3\u001b[0m \u001b[39m    user_log_data AS (\u001b[39m\n\u001b[0;32m   (...)\u001b[0m\n\u001b[1;32m     42\u001b[0m \u001b[39mINSERT INTO users FROM users_input;\u001b[39m\n\u001b[1;32m     43\u001b[0m \u001b[39m\"\"\"\u001b[39m\n\u001b[0;32m---> 45\u001b[0m cursor\u001b[39m.\u001b[39;49mexecute(query)\n\u001b[1;32m     47\u001b[0m rows \u001b[39m=\u001b[39m cursor\u001b[39m.\u001b[39mfetchall()\n\u001b[1;32m     48\u001b[0m \u001b[39mfor\u001b[39;00m row \u001b[39min\u001b[39;00m rows:\n",
      "\u001b[0;31mSyntaxError\u001b[0m: syntax error at or near \"END\"\nLINE 41: END WITH\n         ^\n"
     ]
    }
   ],
   "source": [
    "query = \"\"\"\n",
    "WITH \n",
    "    user_log_data AS (\n",
    "        SELECT\n",
    "            userId AS user_id,\n",
    "            firstName AS first_name,\n",
    "            lastName AS last_name,\n",
    "            gender,\n",
    "            level,\n",
    "            TIMESTAMP 'epoch' + ts/1000 * INTERVAL '1 second' AS time\n",
    "        FROM\n",
    "            log_data\n",
    "        WHERE\n",
    "            auth = 'Logged In' AND\n",
    "            length > 0\n",
    "    ), \n",
    "    max_user_times AS (\n",
    "        SELECT\n",
    "            user_id,\n",
    "            MAX(time) AS max_time\n",
    "        FROM\n",
    "            user_log_data\n",
    "        GROUP BY\n",
    "            user_id\n",
    "    ),\n",
    "    users_input AS (\n",
    "        SELECT\n",
    "            user_log_data.user_id,\n",
    "            user_log_data.first_name,\n",
    "            user_log_data.last_name,\n",
    "            user_log_data.gender,\n",
    "            user_log_data.level\n",
    "        FROM\n",
    "            user_log_data\n",
    "        JOIN\n",
    "            max_user_times\n",
    "        ON\n",
    "            user_log_data.user_id = max_user_times.user_id AND\n",
    "            user_log_data.time = max_user_times.max_time\n",
    "    )\n",
    "INSERT INTO users FROM users_input;\n",
    "\"\"\"\n",
    "\n",
    "cursor.execute(query)\n",
    "\n",
    "rows = cursor.fetchall()\n",
    "for row in rows:\n",
    "    print(row)"
   ]
  },
  {
   "cell_type": "code",
   "execution_count": 70,
   "metadata": {},
   "outputs": [
    {
     "ename": "TypeError",
     "evalue": "'NoneType' object is not iterable",
     "output_type": "error",
     "traceback": [
      "\u001b[0;31m---------------------------------------------------------------------------\u001b[0m",
      "\u001b[0;31mTypeError\u001b[0m                                 Traceback (most recent call last)",
      "Cell \u001b[0;32mIn[70], line 2\u001b[0m\n\u001b[1;32m      1\u001b[0m rows \u001b[39m=\u001b[39m cursor\u001b[39m.\u001b[39mexecute(\u001b[39m\"\u001b[39m\u001b[39mSELECT * FROM users;\u001b[39m\u001b[39m\"\u001b[39m)\n\u001b[0;32m----> 2\u001b[0m \u001b[39mfor\u001b[39;00m row \u001b[39min\u001b[39;00m rows:\n\u001b[1;32m      3\u001b[0m     \u001b[39mprint\u001b[39m(row)\n",
      "\u001b[0;31mTypeError\u001b[0m: 'NoneType' object is not iterable"
     ]
    }
   ],
   "source": [
    "rows = cursor.execute(\"SELECT * FROM users;\")\n",
    "for row in rows:\n",
    "    print(row)"
   ]
  }
 ],
 "metadata": {
  "kernelspec": {
   "display_name": "cloud-warehouse--FX0TuTV-py3.11",
   "language": "python",
   "name": "python3"
  },
  "language_info": {
   "codemirror_mode": {
    "name": "ipython",
    "version": 3
   },
   "file_extension": ".py",
   "mimetype": "text/x-python",
   "name": "python",
   "nbconvert_exporter": "python",
   "pygments_lexer": "ipython3",
   "version": "3.11.1"
  },
  "orig_nbformat": 4
 },
 "nbformat": 4,
 "nbformat_minor": 2
}
