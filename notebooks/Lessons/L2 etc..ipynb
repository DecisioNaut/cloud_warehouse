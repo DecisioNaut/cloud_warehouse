{
 "cells": [
  {
   "cell_type": "code",
   "execution_count": 103,
   "metadata": {},
   "outputs": [
    {
     "name": "stdout",
     "output_type": "stream",
     "text": [
      "The sql extension is already loaded. To reload it, use:\n",
      "  %reload_ext sql\n"
     ]
    }
   ],
   "source": [
    "import json\n",
    "import os\n",
    "from time import time\n",
    "\n",
    "import boto3\n",
    "from dotenv import dotenv_values\n",
    "import matplotlib.pyplot as plt\n",
    "import pandas as pd\n",
    "import psycopg2\n",
    "\n",
    "%load_ext sql"
   ]
  },
  {
   "cell_type": "code",
   "execution_count": 2,
   "metadata": {},
   "outputs": [
    {
     "data": {
      "text/html": [
       "<div>\n",
       "<style scoped>\n",
       "    .dataframe tbody tr th:only-of-type {\n",
       "        vertical-align: middle;\n",
       "    }\n",
       "\n",
       "    .dataframe tbody tr th {\n",
       "        vertical-align: top;\n",
       "    }\n",
       "\n",
       "    .dataframe thead th {\n",
       "        text-align: right;\n",
       "    }\n",
       "</style>\n",
       "<table border=\"1\" class=\"dataframe\">\n",
       "  <thead>\n",
       "    <tr style=\"text-align: right;\">\n",
       "      <th></th>\n",
       "      <th>Param</th>\n",
       "      <th>Value</th>\n",
       "    </tr>\n",
       "  </thead>\n",
       "  <tbody>\n",
       "    <tr>\n",
       "      <th>0</th>\n",
       "      <td>DWH_CLUSTER_TYPE</td>\n",
       "      <td>multi-node</td>\n",
       "    </tr>\n",
       "    <tr>\n",
       "      <th>1</th>\n",
       "      <td>DWH_NUM_NODES</td>\n",
       "      <td>4</td>\n",
       "    </tr>\n",
       "    <tr>\n",
       "      <th>2</th>\n",
       "      <td>DWH_NODE_TYPE</td>\n",
       "      <td>dc2.large</td>\n",
       "    </tr>\n",
       "    <tr>\n",
       "      <th>3</th>\n",
       "      <td>DWH_CLUSTER_IDENTIFIER</td>\n",
       "      <td>dwhCluster</td>\n",
       "    </tr>\n",
       "    <tr>\n",
       "      <th>4</th>\n",
       "      <td>DWH_DB</td>\n",
       "      <td>dwh</td>\n",
       "    </tr>\n",
       "    <tr>\n",
       "      <th>5</th>\n",
       "      <td>DWH_DB_USER</td>\n",
       "      <td>dwhuser</td>\n",
       "    </tr>\n",
       "    <tr>\n",
       "      <th>6</th>\n",
       "      <td>DWH_DB_PASSWORD</td>\n",
       "      <td>Passw0rd</td>\n",
       "    </tr>\n",
       "    <tr>\n",
       "      <th>7</th>\n",
       "      <td>DWH_PORT</td>\n",
       "      <td>5439</td>\n",
       "    </tr>\n",
       "    <tr>\n",
       "      <th>8</th>\n",
       "      <td>DWH_IAM_ROLE_NAME</td>\n",
       "      <td>dwhRole</td>\n",
       "    </tr>\n",
       "  </tbody>\n",
       "</table>\n",
       "</div>"
      ],
      "text/plain": [
       "                    Param       Value\n",
       "0        DWH_CLUSTER_TYPE  multi-node\n",
       "1           DWH_NUM_NODES           4\n",
       "2           DWH_NODE_TYPE   dc2.large\n",
       "3  DWH_CLUSTER_IDENTIFIER  dwhCluster\n",
       "4                  DWH_DB         dwh\n",
       "5             DWH_DB_USER     dwhuser\n",
       "6         DWH_DB_PASSWORD    Passw0rd\n",
       "7                DWH_PORT        5439\n",
       "8       DWH_IAM_ROLE_NAME     dwhRole"
      ]
     },
     "execution_count": 2,
     "metadata": {},
     "output_type": "execute_result"
    }
   ],
   "source": [
    "config = dotenv_values()\n",
    "\n",
    "KEY = config[\"Udacity_AWS_USER_ACCESS_KEY\"]\n",
    "SECRET = config[\"Udacity_AWS_USER_SECRET_ACCESS_KEY\"]\n",
    "\n",
    "DWH_CLUSTER_TYPE = config[\"DWH_CLUSTER_TYPE\"]\n",
    "DWH_NUM_NODES = config[\"DWH_NUM_NODES\"]\n",
    "DWH_NODE_TYPE = config[\"DWH_NODE_TYPE\"]\n",
    "\n",
    "DWH_CLUSTER_IDENTIFIER = config[\"DWH_CLUSTER_IDENTIFIER\"]\n",
    "DWH_DB = config[\"DWH_DB\"]\n",
    "DWH_DB_USER = config[\"DWH_DB_USER\"]\n",
    "DWH_DB_PASSWORD = config[\"DWH_DB_PASSWORD\"]\n",
    "DWH_PORT = config[\"DWH_PORT\"]\n",
    "\n",
    "DWH_IAM_ROLE_NAME = config[\"DWH_IAM_ROLE_NAME\"]\n",
    "\n",
    "(DWH_DB_USER, DWH_DB_PASSWORD, DWH_DB)\n",
    "\n",
    "pd.DataFrame(\n",
    "    {\n",
    "        \"Param\":\n",
    "        [\n",
    "            \"DWH_CLUSTER_TYPE\", \n",
    "            \"DWH_NUM_NODES\", \n",
    "            \"DWH_NODE_TYPE\", \n",
    "            \"DWH_CLUSTER_IDENTIFIER\", \n",
    "            \"DWH_DB\", \n",
    "            \"DWH_DB_USER\", \n",
    "            \"DWH_DB_PASSWORD\", \n",
    "            \"DWH_PORT\", \n",
    "            \"DWH_IAM_ROLE_NAME\"\n",
    "        ],\n",
    "        \"Value\":\n",
    "        [\n",
    "            DWH_CLUSTER_TYPE, \n",
    "            DWH_NUM_NODES, \n",
    "            DWH_NODE_TYPE, \n",
    "            DWH_CLUSTER_IDENTIFIER, \n",
    "            DWH_DB, \n",
    "            DWH_DB_USER, \n",
    "            DWH_DB_PASSWORD, \n",
    "            DWH_PORT, \n",
    "            DWH_IAM_ROLE_NAME\n",
    "        ]\n",
    "    }\n",
    ")"
   ]
  },
  {
   "attachments": {},
   "cell_type": "markdown",
   "metadata": {},
   "source": [
    "## Lesson 2\n",
    "\n",
    "### Step 0: Create Ressources And Clients"
   ]
  },
  {
   "cell_type": "code",
   "execution_count": 3,
   "metadata": {},
   "outputs": [],
   "source": [
    "ec2 = boto3.resource(\"ec2\", region_name=\"us-west-2\", aws_access_key_id=KEY, aws_secret_access_key=SECRET)\n",
    "s3 = boto3.resource(\"s3\", region_name=\"us-west-2\", aws_access_key_id=KEY, aws_secret_access_key=SECRET)\n",
    "iam = boto3.client(\"iam\", region_name=\"us-west-2\", aws_access_key_id=KEY, aws_secret_access_key=SECRET)\n",
    "redshift = boto3.client(\"redshift\", region_name=\"us-west-2\", aws_access_key_id=KEY, aws_secret_access_key=SECRET)"
   ]
  },
  {
   "attachments": {},
   "cell_type": "markdown",
   "metadata": {},
   "source": [
    "#### Test S3 resource"
   ]
  },
  {
   "cell_type": "code",
   "execution_count": 4,
   "metadata": {},
   "outputs": [
    {
     "name": "stdout",
     "output_type": "stream",
     "text": [
      "ssbgz/\n",
      "ssbgz/customer0002_part_00.gz\n",
      "ssbgz/dwdate.tbl.gz\n",
      "ssbgz/lineorder0000_part_00.gz\n",
      "ssbgz/lineorder0001_part_00.gz\n",
      "ssbgz/lineorder0002_part_00.gz\n",
      "ssbgz/lineorder0003_part_00.gz\n",
      "ssbgz/lineorder0004_part_00.gz\n",
      "ssbgz/lineorder0005_part_00.gz\n",
      "ssbgz/lineorder0006_part_00.gz\n",
      "ssbgz/lineorder0007_part_00.gz\n",
      "ssbgz/part0000_part_00.gz\n",
      "ssbgz/part0001_part_00.gz\n",
      "ssbgz/part0002_part_00.gz\n",
      "ssbgz/part0003_part_00.gz\n",
      "ssbgz/supplier.tbl_0000_part_00.gz\n",
      "ssbgz/supplier0001_part_00.gz\n",
      "ssbgz/supplier0002_part_00.gz\n",
      "ssbgz/supplier0003_part_00.gz\n"
     ]
    }
   ],
   "source": [
    "lesson_2_bucket =  s3.Bucket(\"awssampledbuswest2\")\n",
    "lesson_2_objects = lesson_2_bucket.objects.filter(Prefix=\"ssbgz\")\n",
    "for obj in lesson_2_objects:\n",
    "    print(obj.key)"
   ]
  },
  {
   "attachments": {},
   "cell_type": "markdown",
   "metadata": {},
   "source": [
    "### Step 1: Create IAM Role"
   ]
  },
  {
   "cell_type": "code",
   "execution_count": 5,
   "metadata": {},
   "outputs": [
    {
     "name": "stdout",
     "output_type": "stream",
     "text": [
      "1.1 Creating a new IAM Role\n",
      "1.2 Attaching Policy\n",
      "1.3 Get the IAM role ARN\n",
      "arn:aws:iam::756052129656:role/dwhRole\n"
     ]
    }
   ],
   "source": [
    "print(\"1.1 Creating a new IAM Role\")\n",
    "\n",
    "try:\n",
    "    dwhRole = iam.create_role(\n",
    "        Path=\"/\",\n",
    "        RoleName=DWH_IAM_ROLE_NAME,\n",
    "        Description=\"Allows Redshift clusters to call AWS services on your behalf.\",\n",
    "        AssumeRolePolicyDocument=json.dumps(\n",
    "            {\n",
    "                'Statement': [\n",
    "                    {\n",
    "                        'Action': 'sts:AssumeRole',\n",
    "                        'Effect': 'Allow',\n",
    "                        'Principal': {\n",
    "                            'Service': 'redshift.amazonaws.com'\n",
    "                        }\n",
    "                    }\n",
    "                    ],\n",
    "                'Version': '2012-10-17'\n",
    "            }\n",
    "        )\n",
    "    )\n",
    "except Exception as e:\n",
    "    print(e)\n",
    "\n",
    "print(\"1.2 Attaching Policy\")\n",
    "iam.attach_role_policy(\n",
    "    RoleName=DWH_IAM_ROLE_NAME,\n",
    "    PolicyArn=\"arn:aws:iam::aws:policy/AmazonS3ReadOnlyAccess\"\n",
    ")[\"ResponseMetadata\"][\"HTTPStatusCode\"]\n",
    "\n",
    "print(\"1.3 Get the IAM role ARN\")\n",
    "roleArn = iam.get_role(RoleName=DWH_IAM_ROLE_NAME)[\"Role\"][\"Arn\"]\n",
    "\n",
    "print(roleArn)"
   ]
  },
  {
   "attachments": {},
   "cell_type": "markdown",
   "metadata": {},
   "source": [
    "### Step 2: Create Redshift Cluster"
   ]
  },
  {
   "cell_type": "code",
   "execution_count": 6,
   "metadata": {},
   "outputs": [],
   "source": [
    "try:\n",
    "    response = redshift.create_cluster(\n",
    "        \n",
    "        # Hardware\n",
    "        ClusterType=DWH_CLUSTER_TYPE,\n",
    "        NodeType=DWH_NODE_TYPE,\n",
    "        NumberOfNodes=int(DWH_NUM_NODES),\n",
    "\n",
    "        # Identifiers & Credentials\n",
    "        DBName=DWH_DB,\n",
    "        ClusterIdentifier=DWH_CLUSTER_IDENTIFIER,\n",
    "        MasterUsername=DWH_DB_USER,\n",
    "        MasterUserPassword=DWH_DB_PASSWORD,\n",
    "        \n",
    "        # Roles (for s3 access)\n",
    "        IamRoles=[roleArn]  \n",
    "    )\n",
    "except Exception as e:\n",
    "    print(e)"
   ]
  },
  {
   "attachments": {},
   "cell_type": "markdown",
   "metadata": {},
   "source": [
    "#### Describe the cluster"
   ]
  },
  {
   "cell_type": "code",
   "execution_count": 17,
   "metadata": {},
   "outputs": [
    {
     "data": {
      "text/html": [
       "<div>\n",
       "<style scoped>\n",
       "    .dataframe tbody tr th:only-of-type {\n",
       "        vertical-align: middle;\n",
       "    }\n",
       "\n",
       "    .dataframe tbody tr th {\n",
       "        vertical-align: top;\n",
       "    }\n",
       "\n",
       "    .dataframe thead th {\n",
       "        text-align: right;\n",
       "    }\n",
       "</style>\n",
       "<table border=\"1\" class=\"dataframe\">\n",
       "  <thead>\n",
       "    <tr style=\"text-align: right;\">\n",
       "      <th></th>\n",
       "      <th>Key</th>\n",
       "      <th>Value</th>\n",
       "    </tr>\n",
       "  </thead>\n",
       "  <tbody>\n",
       "    <tr>\n",
       "      <th>0</th>\n",
       "      <td>ClusterIdentifier</td>\n",
       "      <td>dwhcluster</td>\n",
       "    </tr>\n",
       "    <tr>\n",
       "      <th>1</th>\n",
       "      <td>NodeType</td>\n",
       "      <td>dc2.large</td>\n",
       "    </tr>\n",
       "    <tr>\n",
       "      <th>2</th>\n",
       "      <td>ClusterStatus</td>\n",
       "      <td>available</td>\n",
       "    </tr>\n",
       "    <tr>\n",
       "      <th>3</th>\n",
       "      <td>MasterUsername</td>\n",
       "      <td>dwhuser</td>\n",
       "    </tr>\n",
       "    <tr>\n",
       "      <th>4</th>\n",
       "      <td>DBName</td>\n",
       "      <td>dwh</td>\n",
       "    </tr>\n",
       "    <tr>\n",
       "      <th>5</th>\n",
       "      <td>Endpoint</td>\n",
       "      <td>{'Address': 'dwhcluster.c3plrnxvdgt6.us-west-2...</td>\n",
       "    </tr>\n",
       "    <tr>\n",
       "      <th>6</th>\n",
       "      <td>VpcId</td>\n",
       "      <td>vpc-05a294b6575b3ad9a</td>\n",
       "    </tr>\n",
       "    <tr>\n",
       "      <th>7</th>\n",
       "      <td>NumberOfNodes</td>\n",
       "      <td>4</td>\n",
       "    </tr>\n",
       "  </tbody>\n",
       "</table>\n",
       "</div>"
      ],
      "text/plain": [
       "                 Key                                              Value\n",
       "0  ClusterIdentifier                                         dwhcluster\n",
       "1           NodeType                                          dc2.large\n",
       "2      ClusterStatus                                          available\n",
       "3     MasterUsername                                            dwhuser\n",
       "4             DBName                                                dwh\n",
       "5           Endpoint  {'Address': 'dwhcluster.c3plrnxvdgt6.us-west-2...\n",
       "6              VpcId                              vpc-05a294b6575b3ad9a\n",
       "7      NumberOfNodes                                                  4"
      ]
     },
     "execution_count": 17,
     "metadata": {},
     "output_type": "execute_result"
    }
   ],
   "source": [
    "def prettyRedshiftProps(props):\n",
    "    \n",
    "    keysToShow = [\n",
    "        \"ClusterIdentifier\", \n",
    "        \"NodeType\", \n",
    "        \"ClusterStatus\", \n",
    "        \"MasterUsername\", \n",
    "        \"DBName\", \n",
    "        \"Endpoint\", \n",
    "        \"NumberOfNodes\", \n",
    "        \"VpcId\"\n",
    "    ]\n",
    "    \n",
    "    data = [(key, value) for key, value in props.items() if key in keysToShow]\n",
    "    \n",
    "    return pd.DataFrame(\n",
    "        data=data, \n",
    "        columns=[\"Key\", \"Value\"]\n",
    "    )\n",
    "\n",
    "myClusterProps = redshift.describe_clusters(\n",
    "    ClusterIdentifier=DWH_CLUSTER_IDENTIFIER\n",
    ")['Clusters'][0]\n",
    "\n",
    "prettyRedshiftProps(myClusterProps)"
   ]
  },
  {
   "attachments": {},
   "cell_type": "markdown",
   "metadata": {},
   "source": [
    "#### Get endpoint and role ARN"
   ]
  },
  {
   "cell_type": "code",
   "execution_count": 18,
   "metadata": {},
   "outputs": [
    {
     "name": "stdout",
     "output_type": "stream",
     "text": [
      "DWH_ENDPOINT ::  dwhcluster.c3plrnxvdgt6.us-west-2.redshift.amazonaws.com\n",
      "DWH_ROLE_ARN ::  arn:aws:iam::756052129656:role/dwhRole\n"
     ]
    }
   ],
   "source": [
    "DWH_ENDPOINT = myClusterProps['Endpoint']['Address']\n",
    "DWH_ROLE_ARN = myClusterProps['IamRoles'][0]['IamRoleArn']\n",
    "\n",
    "print(\"DWH_ENDPOINT :: \", DWH_ENDPOINT)\n",
    "print(\"DWH_ROLE_ARN :: \", DWH_ROLE_ARN)"
   ]
  },
  {
   "attachments": {},
   "cell_type": "markdown",
   "metadata": {},
   "source": [
    "### Step 3: Open an incoming  TCP port to access the cluster endpoint"
   ]
  },
  {
   "cell_type": "code",
   "execution_count": 19,
   "metadata": {},
   "outputs": [
    {
     "name": "stdout",
     "output_type": "stream",
     "text": [
      "ec2.SecurityGroup(id='sg-0e667ac266e0e88c3')\n",
      "An error occurred (InvalidPermission.Duplicate) when calling the AuthorizeSecurityGroupIngress operation: the specified rule \"peer: 0.0.0.0/0, TCP, from port: 5439, to port: 5439, ALLOW\" already exists\n"
     ]
    }
   ],
   "source": [
    "try:\n",
    "\n",
    "    vpc = ec2.Vpc(id=myClusterProps['VpcId'])\n",
    "    \n",
    "    defaultSg = list(vpc.security_groups.all())[0]\n",
    "    print(defaultSg)\n",
    "    \n",
    "    defaultSg.authorize_ingress(\n",
    "        GroupName=defaultSg.group_name,\n",
    "        CidrIp='0.0.0.0/0',\n",
    "        IpProtocol='TCP',\n",
    "        FromPort=int(DWH_PORT),\n",
    "        ToPort=int(DWH_PORT)\n",
    "    )\n",
    "except Exception as e:\n",
    "    print(e)"
   ]
  },
  {
   "attachments": {},
   "cell_type": "markdown",
   "metadata": {},
   "source": [
    "### Step 4: Make sure you can connect to the cluster"
   ]
  },
  {
   "cell_type": "code",
   "execution_count": 147,
   "metadata": {},
   "outputs": [
    {
     "data": {
      "text/plain": [
       "'UNICODE'"
      ]
     },
     "execution_count": 147,
     "metadata": {},
     "output_type": "execute_result"
    }
   ],
   "source": [
    "configuration = { \n",
    "    'dbname': DWH_DB, \n",
    "    'user': DWH_DB_USER,\n",
    "    'pwd': DWH_DB_PASSWORD,\n",
    "    'host': DWH_ENDPOINT,\n",
    "    'port': DWH_ROLE_ARN \n",
    "}\n",
    "\n",
    "connection = psycopg2.connect(\n",
    "    host=DWH_ENDPOINT,\n",
    "    port=DWH_PORT,\n",
    "    database=DWH_DB,\n",
    "    user=DWH_DB_USER,\n",
    "    password=DWH_DB_PASSWORD\n",
    ")\n",
    "\n",
    "cursor = connection.cursor()\n",
    "\n",
    "cursor.connection.encoding"
   ]
  },
  {
   "attachments": {},
   "cell_type": "markdown",
   "metadata": {},
   "source": [
    "## Lesson 3\n",
    "Looking at a somewhat different dataset:"
   ]
  },
  {
   "cell_type": "code",
   "execution_count": 126,
   "metadata": {},
   "outputs": [
    {
     "name": "stdout",
     "output_type": "stream",
     "text": [
      "s3.ObjectSummary(bucket_name='udacity-labs', key='tickets/')\n",
      "s3.ObjectSummary(bucket_name='udacity-labs', key='tickets/full/')\n",
      "s3.ObjectSummary(bucket_name='udacity-labs', key='tickets/full/full.csv.gz')\n",
      "s3.ObjectSummary(bucket_name='udacity-labs', key='tickets/split/')\n",
      "s3.ObjectSummary(bucket_name='udacity-labs', key='tickets/split/part-00000-d33afb94-b8af-407d-abd5-59c0ee8f5ee8-c000.csv.gz')\n",
      "s3.ObjectSummary(bucket_name='udacity-labs', key='tickets/split/part-00001-d33afb94-b8af-407d-abd5-59c0ee8f5ee8-c000.csv.gz')\n",
      "s3.ObjectSummary(bucket_name='udacity-labs', key='tickets/split/part-00002-d33afb94-b8af-407d-abd5-59c0ee8f5ee8-c000.csv.gz')\n",
      "s3.ObjectSummary(bucket_name='udacity-labs', key='tickets/split/part-00003-d33afb94-b8af-407d-abd5-59c0ee8f5ee8-c000.csv.gz')\n",
      "s3.ObjectSummary(bucket_name='udacity-labs', key='tickets/split/part-00004-d33afb94-b8af-407d-abd5-59c0ee8f5ee8-c000.csv.gz')\n",
      "s3.ObjectSummary(bucket_name='udacity-labs', key='tickets/split/part-00005-d33afb94-b8af-407d-abd5-59c0ee8f5ee8-c000.csv.gz')\n",
      "s3.ObjectSummary(bucket_name='udacity-labs', key='tickets/split/part-00006-d33afb94-b8af-407d-abd5-59c0ee8f5ee8-c000.csv.gz')\n",
      "s3.ObjectSummary(bucket_name='udacity-labs', key='tickets/split/part-00007-d33afb94-b8af-407d-abd5-59c0ee8f5ee8-c000.csv.gz')\n",
      "s3.ObjectSummary(bucket_name='udacity-labs', key='tickets/split/part-00008-d33afb94-b8af-407d-abd5-59c0ee8f5ee8-c000.csv.gz')\n",
      "s3.ObjectSummary(bucket_name='udacity-labs', key='tickets/split/part-00009-d33afb94-b8af-407d-abd5-59c0ee8f5ee8-c000.csv.gz')\n"
     ]
    }
   ],
   "source": [
    "lesson_3_bucket =  s3.Bucket(\"udacity-labs\")\n",
    "lesson_3_objects = lesson_3_bucket.objects.filter(Prefix=\"tickets\")\n",
    "for obj in lesson_3_objects:\n",
    "    print(obj)"
   ]
  },
  {
   "attachments": {},
   "cell_type": "markdown",
   "metadata": {},
   "source": [
    "### Step 5-A: Load Partitioned Data into Redshift"
   ]
  },
  {
   "cell_type": "code",
   "execution_count": 127,
   "metadata": {},
   "outputs": [],
   "source": [
    "new_table_query = \"\"\" \n",
    "DROP TABLE IF EXISTS \"sporting_event_ticket_partitioned\";\n",
    "CREATE TABLE \"sporting_event_ticket_partitioned\" (\n",
    "    \"id\" double precision DEFAULT nextval('sporting_event_ticket_seq') NOT NULL,\n",
    "    \"sporting_event_id\" double precision NOT NULL,\n",
    "    \"sport_location_id\" double precision NOT NULL,\n",
    "    \"seat_level\" numeric(1,0) NOT NULL,\n",
    "    \"seat_section\" character varying(15) NOT NULL,\n",
    "    \"seat_row\" character varying(10) NOT NULL,\n",
    "    \"seat\" character varying(10) NOT NULL,\n",
    "    \"ticketholder_id\" double precision,\n",
    "    \"ticket_price\" numeric(8,2) NOT NULL\n",
    ");\n",
    "\"\"\"\n",
    "\n",
    "cursor.execute(new_table_query)"
   ]
  },
  {
   "cell_type": "code",
   "execution_count": 128,
   "metadata": {},
   "outputs": [
    {
     "name": "stdout",
     "output_type": "stream",
     "text": [
      "CPU times: user 1.51 ms, sys: 1.89 ms, total: 3.4 ms\n",
      "Wall time: 13.5 s\n"
     ]
    }
   ],
   "source": [
    "%%time\n",
    "\n",
    "partitioned_copy_query = f\"\"\"\n",
    "COPY sporting_event_ticket_partitioned from 's3://udacity-labs/tickets/split/part'\n",
    "CREDENTIALS 'aws_iam_role={DWH_ROLE_ARN}'\n",
    "gzip delimiter ';' region 'us-west-2';\n",
    "\"\"\"\n",
    "\n",
    "cursor.execute(partitioned_copy_query)"
   ]
  },
  {
   "cell_type": "code",
   "execution_count": 129,
   "metadata": {},
   "outputs": [],
   "source": [
    "check_select_query = \"\"\"\n",
    "SELECT sum(\"id\") FROM sporting_event_ticket_partitioned\n",
    "\"\"\"\n",
    "\n",
    "cursor.execute(check_select_query)"
   ]
  },
  {
   "cell_type": "code",
   "execution_count": 130,
   "metadata": {},
   "outputs": [
    {
     "name": "stdout",
     "output_type": "stream",
     "text": [
      "(1111972723269410.0,)\n"
     ]
    }
   ],
   "source": [
    "rows = cursor.fetchall()\n",
    "for row in rows:\n",
    "    print(row)"
   ]
  },
  {
   "attachments": {},
   "cell_type": "markdown",
   "metadata": {},
   "source": [
    "### Step 5-B: Load Unpartitioned Data into Redshift"
   ]
  },
  {
   "cell_type": "code",
   "execution_count": 131,
   "metadata": {},
   "outputs": [],
   "source": [
    "new_table_query = \"\"\" \n",
    "DROP TABLE IF EXISTS \"sporting_event_ticket_unpartitioned\";\n",
    "CREATE TABLE \"sporting_event_ticket_unpartitioned\" (\n",
    "    \"id\" double precision DEFAULT nextval('sporting_event_ticket_seq') NOT NULL,\n",
    "    \"sporting_event_id\" double precision NOT NULL,\n",
    "    \"sport_location_id\" double precision NOT NULL,\n",
    "    \"seat_level\" numeric(1,0) NOT NULL,\n",
    "    \"seat_section\" character varying(15) NOT NULL,\n",
    "    \"seat_row\" character varying(10) NOT NULL,\n",
    "    \"seat\" character varying(10) NOT NULL,\n",
    "    \"ticketholder_id\" double precision,\n",
    "    \"ticket_price\" numeric(8,2) NOT NULL\n",
    ");\n",
    "\"\"\"\n",
    "\n",
    "cursor.execute(new_table_query)"
   ]
  },
  {
   "cell_type": "code",
   "execution_count": 132,
   "metadata": {},
   "outputs": [
    {
     "name": "stdout",
     "output_type": "stream",
     "text": [
      "CPU times: user 1.05 ms, sys: 1.86 ms, total: 2.9 ms\n",
      "Wall time: 22.1 s\n"
     ]
    }
   ],
   "source": [
    "%%time\n",
    "\n",
    "unpartitioned_copy_query = f\"\"\"\n",
    "COPY sporting_event_ticket_unpartitioned from 's3://udacity-labs/tickets/full/full.csv.gz'\n",
    "CREDENTIALS 'aws_iam_role={DWH_ROLE_ARN}'\n",
    "gzip delimiter ';' region 'us-west-2';\n",
    "\"\"\"\n",
    "\n",
    "cursor.execute(unpartitioned_copy_query)"
   ]
  },
  {
   "cell_type": "code",
   "execution_count": 133,
   "metadata": {},
   "outputs": [],
   "source": [
    "check_select_query = \"\"\"\n",
    "SELECT sum(\"id\") FROM sporting_event_ticket_unpartitioned\n",
    "\"\"\"\n",
    "\n",
    "cursor.execute(check_select_query)"
   ]
  },
  {
   "cell_type": "code",
   "execution_count": 134,
   "metadata": {},
   "outputs": [
    {
     "name": "stdout",
     "output_type": "stream",
     "text": [
      "(1111972723161290.0,)\n"
     ]
    }
   ],
   "source": [
    "rows = cursor.fetchall()\n",
    "\n",
    "for row in rows:\n",
    "    print(row)"
   ]
  },
  {
   "attachments": {},
   "cell_type": "markdown",
   "metadata": {},
   "source": [
    "### Step 6: Distribution Strategies\n",
    "\n",
    "##### No distribution strategy"
   ]
  },
  {
   "cell_type": "code",
   "execution_count": 148,
   "metadata": {},
   "outputs": [],
   "source": [
    "combined_query = \"\"\"\n",
    "DROP SCHEMA IF EXISTS no_distribution_strategy CASCADE;\n",
    "CREATE SCHEMA no_distribution_strategy;\n",
    "SET SEARCH_PATH TO no_distribution_strategy;\n",
    "\n",
    "DROP TABLE IF EXISTS part CASCADE;\n",
    "DROP TABLE IF EXISTS supplier;\n",
    "DROP TABLE IF EXISTS customer;\n",
    "DROP TABLE IF EXISTS dwdate;\n",
    "DROP TABLE IF EXISTS lineorder;\n",
    "\n",
    "CREATE TABLE part (\n",
    "    p_partkey           INTEGER         NOT NULL,\n",
    "    p_name              VARCHAR(22)     NOT NULL,\n",
    "    p_mfgr              VARCHAR(6)      NOT NULL,\n",
    "    p_category          VARCHAR(7)      NOT NULL,\n",
    "    p_brand1            VARCHAR(9)      NOT NULL,\n",
    "    p_color             VARCHAR(11)     NOT NULL,\n",
    "    p_type              VARCHAR(25)     NOT NULL,\n",
    "    p_size              INTEGER         NOT NULL,\n",
    "    p_container         VARCHAR(10)     NOT NULL\n",
    ");\n",
    "\n",
    "CREATE TABLE supplier (\n",
    "    s_suppkey           INTEGER         NOT NULL,\n",
    "    s_name              VARCHAR(25)     NOT NULL,\n",
    "    s_address           VARCHAR(25)     NOT NULL,\n",
    "    s_city              VARCHAR(10)     NOT NULL,\n",
    "    s_nation            VARCHAR(15)     NOT NULL,\n",
    "    s_region            VARCHAR(12)     NOT NULL,\n",
    "    s_phone             VARCHAR(15)     NOT NULL\n",
    ");\n",
    "\n",
    "CREATE TABLE customer (\n",
    "    c_custkey           INTEGER         NOT NULL,\n",
    "    c_name              VARCHAR(25)     NOT NULL,\n",
    "    c_address           VARCHAR(25)     NOT NULL,\n",
    "    c_city              VARCHAR(10)     NOT NULL,\n",
    "    c_nation            VARCHAR(15)     NOT NULL,\n",
    "    c_region            VARCHAR(12)     NOT NULL,\n",
    "    c_phone             VARCHAR(15)     NOT NULL,\n",
    "    c_mktsegment        VARCHAR(10)     NOT NULL\n",
    ");\n",
    "\n",
    "CREATE TABLE dwdate (\n",
    "    d_datekey           INTEGER         NOT NULL,\n",
    "    d_date              VARCHAR(19)     NOT NULL,\n",
    "    d_dayofweek         VARCHAR(10)     NOT NULL,\n",
    "    d_month             VARCHAR(10)     NOT NULL,\n",
    "    d_year              INTEGER         NOT NULL,\n",
    "    d_yearmonthnum      INTEGER         NOT NULL,\n",
    "    d_yearmonth         VARCHAR(8)      NOT NULL,\n",
    "    d_daynuminweek      INTEGER         NOT NULL,\n",
    "    d_daynuminmonth     INTEGER         NOT NULL,\n",
    "    d_daynuminyear      INTEGER         NOT NULL,\n",
    "    d_monthnuminyear    INTEGER         NOT NULL,\n",
    "    d_weeknuminyear     INTEGER         NOT NULL,\n",
    "    d_sellingseason     VARCHAR(13)     NOT NULL,\n",
    "    d_lastdayinweekfl   VARCHAR(1)      NOT NULL,\n",
    "    d_lastdayinmonthfl  VARCHAR(1)      NOT NULL,\n",
    "    d_holidayfl         VARCHAR(1)      NOT NULL,\n",
    "    d_weekdayfl         VARCHAR(1)      NOT NULL\n",
    ");\n",
    "\n",
    "CREATE TABLE lineorder (\n",
    "    lo_orderkey         INTEGER         NOT NULL,\n",
    "    lo_linenumber       INTEGER         NOT NULL,\n",
    "    lo_custkey          INTEGER         NOT NULL,\n",
    "    lo_partkey          INTEGER         NOT NULL,\n",
    "    lo_suppkey          INTEGER         NOT NULL,\n",
    "    lo_orderdate        INTEGER         NOT NULL,\n",
    "    lo_orderpriority    VARCHAR(15)     NOT NULL,\n",
    "    lo_shioriority      VARCHAR(1)      NOT NULL,\n",
    "    lo_quantity         INTEGER         NOT NULL,\n",
    "    lo_extendedprice    INTEGER         NOT NULL,\n",
    "    lo_ordertotalprice  INTEGER         NOT NULL,\n",
    "    lo_discount         INTEGER         NOT NULL,\n",
    "    lo_revenue          INTEGER         NOT NULL,\n",
    "    lo_supplycost       INTEGER         NOT NULL,\n",
    "    lo_tax              INTEGER         NOT NULL,\n",
    "    lo_commdate         INTEGER         NOT NULL,\n",
    "    lo_shipmode         VARCHAR(10)     NOT NULL\n",
    ");\n",
    "\"\"\"\n",
    "\n",
    "cursor.execute(combined_query)"
   ]
  },
  {
   "attachments": {},
   "cell_type": "markdown",
   "metadata": {},
   "source": [
    "##### Distribution strategy"
   ]
  },
  {
   "cell_type": "code",
   "execution_count": 149,
   "metadata": {},
   "outputs": [],
   "source": [
    "combined_query = \"\"\"\n",
    "DROP SCHEMA IF EXISTS distribution_strategy CASCADE;\n",
    "CREATE SCHEMA distribution_strategy;\n",
    "SET SEARCH_PATH TO distribution_strategy;\n",
    "\n",
    "DROP TABLE IF EXISTS part CASCADE;\n",
    "DROP TABLE IF EXISTS supplier;\n",
    "DROP TABLE IF EXISTS customer;\n",
    "DROP TABLE IF EXISTS dwdate;\n",
    "DROP TABLE IF EXISTS lineorder;\n",
    "\n",
    "CREATE TABLE part (\n",
    "    p_partkey           INTEGER         NOT NULL    SORTKEY DISTKEY,\n",
    "    p_name              VARCHAR(22)     NOT NULL,\n",
    "    p_mfgr              VARCHAR(6)      NOT NULL,\n",
    "    p_category          VARCHAR(7)      NOT NULL,\n",
    "    p_brand1            VARCHAR(9)      NOT NULL,\n",
    "    p_color             VARCHAR(11)     NOT NULL,\n",
    "    p_type              VARCHAR(25)     NOT NULL,\n",
    "    p_size              INTEGER         NOT NULL,\n",
    "    p_container         VARCHAR(10)     NOT NULL\n",
    ");\n",
    "\n",
    "CREATE TABLE supplier (\n",
    "    s_suppkey           INTEGER         NOT NULL    SORTKEY,\n",
    "    s_name              VARCHAR(25)     NOT NULL,\n",
    "    s_address           VARCHAR(25)     NOT NULL,\n",
    "    s_city              VARCHAR(10)     NOT NULL,\n",
    "    s_nation            VARCHAR(15)     NOT NULL,\n",
    "    s_region            VARCHAR(12)     NOT NULL,\n",
    "    s_phone             VARCHAR(15)     NOT NULL\n",
    ")\n",
    "DISTSTYLE ALL;\n",
    "\n",
    "CREATE TABLE customer (\n",
    "    c_custkey           INTEGER         NOT NULL    SORTKEY,\n",
    "    c_name              VARCHAR(25)     NOT NULL,\n",
    "    c_address           VARCHAR(25)     NOT NULL,\n",
    "    c_city              VARCHAR(10)     NOT NULL,\n",
    "    c_nation            VARCHAR(15)     NOT NULL,\n",
    "    c_region            VARCHAR(12)     NOT NULL,\n",
    "    c_phone             VARCHAR(15)     NOT NULL,\n",
    "    c_mktsegment        VARCHAR(10)     NOT NULL\n",
    ")\n",
    "DISTSTYLE ALL;\n",
    "\n",
    "CREATE TABLE dwdate (\n",
    "    d_datekey           INTEGER         NOT NULL    SORTKEY,\n",
    "    d_date              VARCHAR(19)     NOT NULL,\n",
    "    d_dayofweek         VARCHAR(10)     NOT NULL,\n",
    "    d_month             VARCHAR(10)     NOT NULL,\n",
    "    d_year              INTEGER         NOT NULL,\n",
    "    d_yearmonthnum      INTEGER         NOT NULL,\n",
    "    d_yearmonth         VARCHAR(8)      NOT NULL,\n",
    "    d_daynuminweek      INTEGER         NOT NULL,\n",
    "    d_daynuminmonth     INTEGER         NOT NULL,\n",
    "    d_daynuminyear      INTEGER         NOT NULL,\n",
    "    d_monthnuminyear    INTEGER         NOT NULL,\n",
    "    d_weeknuminyear     INTEGER         NOT NULL,\n",
    "    d_sellingseason     VARCHAR(13)     NOT NULL,\n",
    "    d_lastdayinweekfl   VARCHAR(1)      NOT NULL,\n",
    "    d_lastdayinmonthfl  VARCHAR(1)      NOT NULL,\n",
    "    d_holidayfl         VARCHAR(1)      NOT NULL,\n",
    "    d_weekdayfl         VARCHAR(1)      NOT NULL\n",
    ")\n",
    "DISTSTYLE ALL;\n",
    "\n",
    "CREATE TABLE lineorder (\n",
    "    lo_orderkey         INTEGER         NOT NULL,\n",
    "    lo_linenumber       INTEGER         NOT NULL,\n",
    "    lo_custkey          INTEGER         NOT NULL,\n",
    "    lo_partkey          INTEGER         NOT NULL    DISTKEY,\n",
    "    lo_suppkey          INTEGER         NOT NULL,\n",
    "    lo_orderdate        INTEGER         NOT NULL    SORTKEY,\n",
    "    lo_orderpriority    VARCHAR(15)     NOT NULL,\n",
    "    lo_shioriority      VARCHAR(1)      NOT NULL,\n",
    "    lo_quantity         INTEGER         NOT NULL,\n",
    "    lo_extendedprice    INTEGER         NOT NULL,\n",
    "    lo_ordertotalprice  INTEGER         NOT NULL,\n",
    "    lo_discount         INTEGER         NOT NULL,\n",
    "    lo_revenue          INTEGER         NOT NULL,\n",
    "    lo_supplycost       INTEGER         NOT NULL,\n",
    "    lo_tax              INTEGER         NOT NULL,\n",
    "    lo_commdate         INTEGER         NOT NULL,\n",
    "    lo_shipmode         VARCHAR(10)     NOT NULL\n",
    ");\n",
    "\"\"\"\n",
    "cursor.execute(combined_query)"
   ]
  },
  {
   "attachments": {},
   "cell_type": "markdown",
   "metadata": {},
   "source": [
    "##### Compare loading times"
   ]
  },
  {
   "cell_type": "code",
   "execution_count": 150,
   "metadata": {},
   "outputs": [],
   "source": [
    "def load_tables(cursor, schema, tables, role=DWH_ROLE_ARN):\n",
    "\n",
    "    load_times = []\n",
    "    SQL_SET_SCHEMA = f\"SET SEARCH_PATH TO {schema}\"\n",
    "    \n",
    "    cursor.execute(SQL_SET_SCHEMA)\n",
    "\n",
    "    for table in tables:\n",
    "        \n",
    "        SQL_COPY = f\"\"\"\n",
    "            COPY {table} FROM 's3://awssampledbuswest2/ssbgz/{table}' \n",
    "            CREDENTIALS 'aws_iam_role={role}' \n",
    "            GZIP\n",
    "            REGION 'us-west-2'\n",
    "        \"\"\"\n",
    "        \n",
    "        print(f\"Loading {table} into {schema} schema\")\n",
    "        print(SQL_COPY)\n",
    "\n",
    "        start_time = time()\n",
    "        cursor.execute(SQL_COPY)\n",
    "        load_time = time() - start_time\n",
    "        load_times.append(load_time)\n",
    "\n",
    "        print(f\"Load time: {load_time:.2f} seconds\")\n",
    "\n",
    "    return pd.DataFrame({\"table\": tables, f\"load_time_{schema}\": load_times})"
   ]
  },
  {
   "cell_type": "code",
   "execution_count": 151,
   "metadata": {},
   "outputs": [
    {
     "name": "stdout",
     "output_type": "stream",
     "text": [
      "ssbgz/\n",
      "ssbgz/customer0002_part_00.gz\n",
      "ssbgz/dwdate.tbl.gz\n",
      "ssbgz/lineorder0000_part_00.gz\n",
      "ssbgz/lineorder0001_part_00.gz\n",
      "ssbgz/lineorder0002_part_00.gz\n",
      "ssbgz/lineorder0003_part_00.gz\n",
      "ssbgz/lineorder0004_part_00.gz\n",
      "ssbgz/lineorder0005_part_00.gz\n",
      "ssbgz/lineorder0006_part_00.gz\n",
      "ssbgz/lineorder0007_part_00.gz\n",
      "ssbgz/part0000_part_00.gz\n",
      "ssbgz/part0001_part_00.gz\n",
      "ssbgz/part0002_part_00.gz\n",
      "ssbgz/part0003_part_00.gz\n",
      "ssbgz/supplier.tbl_0000_part_00.gz\n",
      "ssbgz/supplier0001_part_00.gz\n",
      "ssbgz/supplier0002_part_00.gz\n",
      "ssbgz/supplier0003_part_00.gz\n"
     ]
    }
   ],
   "source": [
    "lesson_2_bucket =  s3.Bucket(\"awssampledbuswest2\")\n",
    "lesson_2_objects = lesson_2_bucket.objects.filter(Prefix=\"ssbgz\")\n",
    "for obj in lesson_2_objects:\n",
    "    print(obj.key)"
   ]
  },
  {
   "cell_type": "code",
   "execution_count": 152,
   "metadata": {},
   "outputs": [
    {
     "name": "stdout",
     "output_type": "stream",
     "text": [
      "Loading part into no_distribution_strategy schema\n",
      "\n",
      "            COPY part FROM 's3://awssampledbuswest2/ssbgz/part' \n",
      "            CREDENTIALS 'aws_iam_role=arn:aws:iam::756052129656:role/dwhRole' \n",
      "            GZIP\n",
      "            REGION 'us-west-2'\n",
      "        \n",
      "Load time: 3.56 seconds\n",
      "Loading supplier into no_distribution_strategy schema\n",
      "\n",
      "            COPY supplier FROM 's3://awssampledbuswest2/ssbgz/supplier' \n",
      "            CREDENTIALS 'aws_iam_role=arn:aws:iam::756052129656:role/dwhRole' \n",
      "            GZIP\n",
      "            REGION 'us-west-2'\n",
      "        \n",
      "Load time: 5.12 seconds\n",
      "Loading customer into no_distribution_strategy schema\n",
      "\n",
      "            COPY customer FROM 's3://awssampledbuswest2/ssbgz/customer' \n",
      "            CREDENTIALS 'aws_iam_role=arn:aws:iam::756052129656:role/dwhRole' \n",
      "            GZIP\n",
      "            REGION 'us-west-2'\n",
      "        \n",
      "Load time: 8.86 seconds\n",
      "Loading dwdate into no_distribution_strategy schema\n",
      "\n",
      "            COPY dwdate FROM 's3://awssampledbuswest2/ssbgz/dwdate' \n",
      "            CREDENTIALS 'aws_iam_role=arn:aws:iam::756052129656:role/dwhRole' \n",
      "            GZIP\n",
      "            REGION 'us-west-2'\n",
      "        \n",
      "Load time: 1.05 seconds\n",
      "Loading lineorder into no_distribution_strategy schema\n",
      "\n",
      "            COPY lineorder FROM 's3://awssampledbuswest2/ssbgz/lineorder' \n",
      "            CREDENTIALS 'aws_iam_role=arn:aws:iam::756052129656:role/dwhRole' \n",
      "            GZIP\n",
      "            REGION 'us-west-2'\n",
      "        \n",
      "Load time: 470.99 seconds\n",
      "Loading part into distribution_strategy schema\n",
      "\n",
      "            COPY part FROM 's3://awssampledbuswest2/ssbgz/part' \n",
      "            CREDENTIALS 'aws_iam_role=arn:aws:iam::756052129656:role/dwhRole' \n",
      "            GZIP\n",
      "            REGION 'us-west-2'\n",
      "        \n",
      "Load time: 2.11 seconds\n",
      "Loading supplier into distribution_strategy schema\n",
      "\n",
      "            COPY supplier FROM 's3://awssampledbuswest2/ssbgz/supplier' \n",
      "            CREDENTIALS 'aws_iam_role=arn:aws:iam::756052129656:role/dwhRole' \n",
      "            GZIP\n",
      "            REGION 'us-west-2'\n",
      "        \n",
      "Load time: 4.49 seconds\n",
      "Loading customer into distribution_strategy schema\n",
      "\n",
      "            COPY customer FROM 's3://awssampledbuswest2/ssbgz/customer' \n",
      "            CREDENTIALS 'aws_iam_role=arn:aws:iam::756052129656:role/dwhRole' \n",
      "            GZIP\n",
      "            REGION 'us-west-2'\n",
      "        \n",
      "Load time: 13.18 seconds\n",
      "Loading dwdate into distribution_strategy schema\n",
      "\n",
      "            COPY dwdate FROM 's3://awssampledbuswest2/ssbgz/dwdate' \n",
      "            CREDENTIALS 'aws_iam_role=arn:aws:iam::756052129656:role/dwhRole' \n",
      "            GZIP\n",
      "            REGION 'us-west-2'\n",
      "        \n",
      "Load time: 0.80 seconds\n",
      "Loading lineorder into distribution_strategy schema\n",
      "\n",
      "            COPY lineorder FROM 's3://awssampledbuswest2/ssbgz/lineorder' \n",
      "            CREDENTIALS 'aws_iam_role=arn:aws:iam::756052129656:role/dwhRole' \n",
      "            GZIP\n",
      "            REGION 'us-west-2'\n",
      "        \n",
      "Load time: 616.14 seconds\n"
     ]
    }
   ],
   "source": [
    "tables = ['part', 'supplier', 'customer', 'dwdate', 'lineorder']\n",
    "\n",
    "no_distribution_stats = load_tables(cursor, 'no_distribution_strategy', tables)\n",
    "distribution_stats = load_tables(cursor, 'distribution_strategy', tables)"
   ]
  },
  {
   "cell_type": "code",
   "execution_count": 153,
   "metadata": {},
   "outputs": [
    {
     "data": {
      "image/png": "[encoded data removed]",
      "text/plain": [
       "<Figure size 640x480 with 1 Axes>"
      ]
     },
     "metadata": {},
     "output_type": "display_data"
    }
   ],
   "source": [
    "stats = pd.merge(no_distribution_stats, distribution_stats, on='table')\n",
    "stats.plot.bar()\n",
    "plt.show()"
   ]
  },
  {
   "attachments": {},
   "cell_type": "markdown",
   "metadata": {},
   "source": [
    "##### Compare query times"
   ]
  },
  {
   "cell_type": "code",
   "execution_count": 154,
   "metadata": {},
   "outputs": [],
   "source": [
    "oneDim_SQL = \"\"\"\n",
    "SET enable_result_cache_for_session TO OFF;\n",
    "SET search_path TO {};\n",
    "\n",
    "SELECT sum(lo_extendedprice*lo_discount) AS revenue\n",
    "FROM lineorder, dwdate\n",
    "WHERE lo_orderdate = d_datekey\n",
    "AND d_year = 1997 \n",
    "AND lo_discount between 1 and 3 \n",
    "AND lo_quantity < 24;\n",
    "\"\"\"\n",
    "\n",
    "twoDim_SQL= \"\"\"\n",
    "SET enable_result_cache_for_session TO OFF;\n",
    "SET search_path TO {};\n",
    "\n",
    "SELECT sum(lo_revenue), d_year, p_brand1\n",
    "FROM lineorder, dwdate, part, supplier\n",
    "WHERE lo_orderdate = d_datekey\n",
    "AND lo_partkey = p_partkey\n",
    "AND lo_suppkey = s_suppkey\n",
    "AND p_category = 'MFGR#12'\n",
    "AND s_region = 'AMERICA'\n",
    "GROUP BY d_year, p_brand1\n",
    "\"\"\"\n",
    "\n",
    "drill_SQL = \"\"\"\n",
    "SET enable_result_cache_for_session TO OFF;\n",
    "SET search_path TO {};\n",
    "\n",
    "SELECT c_city, s_city, d_year, sum(lo_revenue) AS revenue \n",
    "FROM customer, lineorder, supplier, dwdate\n",
    "WHERE lo_custkey = c_custkey\n",
    "AND lo_suppkey = s_suppkey\n",
    "AND lo_orderdate = d_datekey\n",
    "AND (\n",
    "    c_city='UNITED KI1'\n",
    "    OR c_city='UNITED KI5'\n",
    ")\n",
    "AND (\n",
    "    s_city='UNITED KI1'\n",
    "    OR s_city='UNITED KI5'\n",
    ")\n",
    "AND d_yearmonth = 'Dec1997'\n",
    "GROUP BY c_city, s_city, d_year\n",
    "ORDER BY d_year asc, revenue DESC;\n",
    "\"\"\"\n",
    "\n",
    "oneDimSameDist_SQL = \"\"\"\n",
    "SET enable_result_cache_for_session TO OFF;\n",
    "SET search_path TO {};\n",
    "\n",
    "SELECT lo_orderdate, sum(lo_extendedprice*lo_discount) as revenue  \n",
    "FROM lineorder, part\n",
    "WHERE lo_partkey  = p_partkey\n",
    "GROUP BY lo_orderdate\n",
    "ORDER BY lo_orderdate\n",
    "\"\"\"\n",
    "\n",
    "def compare_query_times(cursor, schema):\n",
    "\n",
    "    queryTimes  =[] \n",
    "\n",
    "    for query in [oneDim_SQL, twoDim_SQL, drill_SQL, oneDimSameDist_SQL]:\n",
    "        start_time = time()\n",
    "        q = query.format(schema)\n",
    "        cursor.execute(q)\n",
    "        queryTime = time()- start_time\n",
    "        queryTimes.append(queryTime)\n",
    "\n",
    "    return pd.DataFrame({\n",
    "            \"query\":[\n",
    "                \"oneDim\",\n",
    "                \"twoDim\", \n",
    "                \"drill\", \n",
    "                \"oneDimSameDist\"\n",
    "            ], \n",
    "            f\"queryTime_{schema}\":queryTimes\n",
    "        }).set_index('query')"
   ]
  },
  {
   "cell_type": "code",
   "execution_count": 156,
   "metadata": {},
   "outputs": [],
   "source": [
    "no_distribution_query_times = compare_query_times(cursor, 'no_distribution_strategy')\n",
    "distribution_query_times = compare_query_times(cursor, 'distribution_strategy')"
   ]
  },
  {
   "cell_type": "code",
   "execution_count": 157,
   "metadata": {},
   "outputs": [
    {
     "data": {
      "image/png": "[encoded data removed]",
      "text/plain": [
       "<Figure size 640x480 with 1 Axes>"
      ]
     },
     "metadata": {},
     "output_type": "display_data"
    }
   ],
   "source": [
    "query_times = pd.merge(no_distribution_query_times, distribution_query_times, on='query')\n",
    "query_times.plot.bar()\n",
    "plt.show()"
   ]
  },
  {
   "cell_type": "code",
   "execution_count": 158,
   "metadata": {},
   "outputs": [
    {
     "data": {
      "image/png": "[encoded data removed]",
      "text/plain": [
       "<Figure size 640x480 with 1 Axes>"
      ]
     },
     "metadata": {},
     "output_type": "display_data"
    }
   ],
   "source": [
    "query_times[\"distImprovement\"] = 100.0 * (\n",
    "    query_times['queryTime_no_distribution_strategy'] - query_times['queryTime_distribution_strategy']\n",
    ") / query_times['queryTime_no_distribution_strategy']\n",
    "\n",
    "query_times[\"distImprovement\"].plot.bar(title=\"Improvement by query\")\n",
    "plt.show()"
   ]
  },
  {
   "attachments": {},
   "cell_type": "markdown",
   "metadata": {},
   "source": [
    "### Last Step: Clean up your resources"
   ]
  },
  {
   "cell_type": "code",
   "execution_count": 159,
   "metadata": {},
   "outputs": [
    {
     "data": {
      "text/plain": [
       "{'Cluster': {'ClusterIdentifier': 'dwhcluster',\n",
       "  'NodeType': 'dc2.large',\n",
       "  'ClusterStatus': 'deleting',\n",
       "  'ClusterAvailabilityStatus': 'Modifying',\n",
       "  'MasterUsername': 'dwhuser',\n",
       "  'DBName': 'dwh',\n",
       "  'Endpoint': {'Address': 'dwhcluster.c3plrnxvdgt6.us-west-2.redshift.amazonaws.com',\n",
       "   'Port': 5439},\n",
       "  'ClusterCreateTime': datetime.datetime(2023, 3, 14, 8, 55, 4, 561000, tzinfo=tzutc()),\n",
       "  'AutomatedSnapshotRetentionPeriod': 1,\n",
       "  'ManualSnapshotRetentionPeriod': -1,\n",
       "  'ClusterSecurityGroups': [],\n",
       "  'VpcSecurityGroups': [{'VpcSecurityGroupId': 'sg-0e667ac266e0e88c3',\n",
       "    'Status': 'active'}],\n",
       "  'ClusterParameterGroups': [{'ParameterGroupName': 'default.redshift-1.0',\n",
       "    'ParameterApplyStatus': 'in-sync'}],\n",
       "  'ClusterSubnetGroupName': 'default',\n",
       "  'VpcId': 'vpc-05a294b6575b3ad9a',\n",
       "  'AvailabilityZone': 'us-west-2a',\n",
       "  'PreferredMaintenanceWindow': 'mon:12:00-mon:12:30',\n",
       "  'PendingModifiedValues': {},\n",
       "  'ClusterVersion': '1.0',\n",
       "  'AllowVersionUpgrade': True,\n",
       "  'NumberOfNodes': 4,\n",
       "  'PubliclyAccessible': True,\n",
       "  'Encrypted': False,\n",
       "  'Tags': [],\n",
       "  'EnhancedVpcRouting': False,\n",
       "  'IamRoles': [{'IamRoleArn': 'arn:aws:iam::756052129656:role/dwhRole',\n",
       "    'ApplyStatus': 'in-sync'}],\n",
       "  'MaintenanceTrackName': 'current',\n",
       "  'DeferredMaintenanceWindows': [],\n",
       "  'NextMaintenanceWindowStartTime': datetime.datetime(2023, 3, 20, 12, 0, tzinfo=tzutc()),\n",
       "  'TotalStorageCapacityInMegaBytes': 1600000,\n",
       "  'AquaConfiguration': {'AquaStatus': 'disabled',\n",
       "   'AquaConfigurationStatus': 'auto'}},\n",
       " 'ResponseMetadata': {'RequestId': '8e2e5f87-5a95-48dc-8591-67ac5f59ae84',\n",
       "  'HTTPStatusCode': 200,\n",
       "  'HTTPHeaders': {'x-amzn-requestid': '8e2e5f87-5a95-48dc-8591-67ac5f59ae84',\n",
       "   'content-type': 'text/xml',\n",
       "   'content-length': '2712',\n",
       "   'date': 'Tue, 14 Mar 2023 10:42:24 GMT'},\n",
       "  'RetryAttempts': 0}}"
      ]
     },
     "execution_count": 159,
     "metadata": {},
     "output_type": "execute_result"
    }
   ],
   "source": [
    "redshift.delete_cluster(\n",
    "    ClusterIdentifier=DWH_CLUSTER_IDENTIFIER, \n",
    "    SkipFinalClusterSnapshot=True\n",
    ")"
   ]
  },
  {
   "cell_type": "code",
   "execution_count": 160,
   "metadata": {},
   "outputs": [
    {
     "data": {
      "text/html": [
       "<div>\n",
       "<style scoped>\n",
       "    .dataframe tbody tr th:only-of-type {\n",
       "        vertical-align: middle;\n",
       "    }\n",
       "\n",
       "    .dataframe tbody tr th {\n",
       "        vertical-align: top;\n",
       "    }\n",
       "\n",
       "    .dataframe thead th {\n",
       "        text-align: right;\n",
       "    }\n",
       "</style>\n",
       "<table border=\"1\" class=\"dataframe\">\n",
       "  <thead>\n",
       "    <tr style=\"text-align: right;\">\n",
       "      <th></th>\n",
       "      <th>Key</th>\n",
       "      <th>Value</th>\n",
       "    </tr>\n",
       "  </thead>\n",
       "  <tbody>\n",
       "    <tr>\n",
       "      <th>0</th>\n",
       "      <td>ClusterIdentifier</td>\n",
       "      <td>dwhcluster</td>\n",
       "    </tr>\n",
       "    <tr>\n",
       "      <th>1</th>\n",
       "      <td>NodeType</td>\n",
       "      <td>dc2.large</td>\n",
       "    </tr>\n",
       "    <tr>\n",
       "      <th>2</th>\n",
       "      <td>ClusterStatus</td>\n",
       "      <td>deleting</td>\n",
       "    </tr>\n",
       "    <tr>\n",
       "      <th>3</th>\n",
       "      <td>MasterUsername</td>\n",
       "      <td>dwhuser</td>\n",
       "    </tr>\n",
       "    <tr>\n",
       "      <th>4</th>\n",
       "      <td>DBName</td>\n",
       "      <td>dwh</td>\n",
       "    </tr>\n",
       "    <tr>\n",
       "      <th>5</th>\n",
       "      <td>Endpoint</td>\n",
       "      <td>{'Port': 5439}</td>\n",
       "    </tr>\n",
       "    <tr>\n",
       "      <th>6</th>\n",
       "      <td>VpcId</td>\n",
       "      <td>vpc-05a294b6575b3ad9a</td>\n",
       "    </tr>\n",
       "    <tr>\n",
       "      <th>7</th>\n",
       "      <td>NumberOfNodes</td>\n",
       "      <td>4</td>\n",
       "    </tr>\n",
       "  </tbody>\n",
       "</table>\n",
       "</div>"
      ],
      "text/plain": [
       "                 Key                  Value\n",
       "0  ClusterIdentifier             dwhcluster\n",
       "1           NodeType              dc2.large\n",
       "2      ClusterStatus               deleting\n",
       "3     MasterUsername                dwhuser\n",
       "4             DBName                    dwh\n",
       "5           Endpoint         {'Port': 5439}\n",
       "6              VpcId  vpc-05a294b6575b3ad9a\n",
       "7      NumberOfNodes                      4"
      ]
     },
     "execution_count": 160,
     "metadata": {},
     "output_type": "execute_result"
    }
   ],
   "source": [
    "myClusterProps = redshift.describe_clusters(ClusterIdentifier=DWH_CLUSTER_IDENTIFIER)['Clusters'][0]\n",
    "prettyRedshiftProps(myClusterProps)"
   ]
  },
  {
   "cell_type": "code",
   "execution_count": 161,
   "metadata": {},
   "outputs": [
    {
     "data": {
      "text/plain": [
       "{'ResponseMetadata': {'RequestId': '464ec75a-3074-494f-a9dd-7c958bab384f',\n",
       "  'HTTPStatusCode': 200,\n",
       "  'HTTPHeaders': {'x-amzn-requestid': '464ec75a-3074-494f-a9dd-7c958bab384f',\n",
       "   'content-type': 'text/xml',\n",
       "   'content-length': '200',\n",
       "   'date': 'Tue, 14 Mar 2023 10:48:24 GMT'},\n",
       "  'RetryAttempts': 0}}"
      ]
     },
     "execution_count": 161,
     "metadata": {},
     "output_type": "execute_result"
    }
   ],
   "source": [
    "iam.detach_role_policy(\n",
    "    RoleName=DWH_IAM_ROLE_NAME, \n",
    "    PolicyArn=\"arn:aws:iam::aws:policy/AmazonS3ReadOnlyAccess\"\n",
    ")\n",
    "iam.delete_role(RoleName=DWH_IAM_ROLE_NAME)"
   ]
  }
 ],
 "metadata": {
  "kernelspec": {
   "display_name": "cloud-warehouse--FX0TuTV-py3.11",
   "language": "python",
   "name": "python3"
  },
  "language_info": {
   "codemirror_mode": {
    "name": "ipython",
    "version": 3
   },
   "file_extension": ".py",
   "mimetype": "text/x-python",
   "name": "python",
   "nbconvert_exporter": "python",
   "pygments_lexer": "ipython3",
   "version": "3.11.1"
  },
  "orig_nbformat": 4
 },
 "nbformat": 4,
 "nbformat_minor": 2
}
