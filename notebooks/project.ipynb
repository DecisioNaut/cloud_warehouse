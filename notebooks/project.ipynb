{
 "cells": [
  {
   "cell_type": "code",
   "execution_count": 1,
   "metadata": {},
   "outputs": [],
   "source": [
    "## Imports\n",
    "\n",
    "# From standard library\n",
    "import json\n",
    "\n",
    "# From third party\n",
    "import boto3\n",
    "import botocore\n",
    "from dotenv import dotenv_values"
   ]
  },
  {
   "cell_type": "code",
   "execution_count": 66,
   "metadata": {},
   "outputs": [],
   "source": [
    "# IAM Role Global Variables\n",
    "PATH = \"/\"\n",
    "ROLE_NAME = \"dwhRole\"\n",
    "DESCRIPTION = \"Allows Redshift clusters to call AWS services on your behalf.\"\n",
    "ASSUME_ROLE_POLICY_DOCUMENT = json.dumps(\n",
    "    {\n",
    "        \"Statement\": [\n",
    "            {\n",
    "                \"Action\": \"sts:AssumeRole\",\n",
    "                \"Effect\": \"Allow\",\n",
    "                \"Principal\": {\"Service\": \"redshift.amazonaws.com\"},\n",
    "            }\n",
    "        ],\n",
    "        \"Version\": \"2012-10-17\",\n",
    "    }\n",
    ")\n",
    "POLICY_NAME = \"AmazonS3ReadOnlyAccess\"\n",
    "POLICY_ARN = \"arn:aws:iam::aws:policy/AmazonS3ReadOnlyAccess\"  # For attaching policies\n",
    "\n",
    "# Redshift Global Variables\n",
    "CLUSTER_IDENTIFIER = \"dwhCluster\"\n",
    "CLUSTER_TYPE = \"multi-node\"\n",
    "NUM_NODES = 4\n",
    "NODE_TYPE = \"dc2.large\"\n",
    "DB_NAME = \"dwh\"\n",
    "MASTER_USER_NAME = \"dwhuser\"\n",
    "MASTER_USER_PASSWORD = \"Passw0rd\"\n",
    "\n",
    "# Connection Global Variables\n",
    "PORT = 5439\n",
    "CIDR_IP = \"0.0.0.0/0\"\n",
    "IP_PROTOCOL = \"TCP\""
   ]
  },
  {
   "cell_type": "code",
   "execution_count": 3,
   "metadata": {},
   "outputs": [],
   "source": [
    "# Get AWS credentials from .env file\n",
    "env = dotenv_values()\n",
    "\n",
    "AWS_KEY = env[\"AWS_KEY\"]\n",
    "AWS_SECRET = env[\"AWS_SECRET\"]"
   ]
  },
  {
   "cell_type": "code",
   "execution_count": 7,
   "metadata": {},
   "outputs": [],
   "source": [
    "s3 = boto3.resource(\"s3\", region_name=\"us-west-2\", aws_access_key_id=AWS_KEY, aws_secret_access_key=AWS_SECRET)\n",
    "ec2 = boto3.client(\"ec2\", region_name=\"us-west-2\", aws_access_key_id=AWS_KEY, aws_secret_access_key=AWS_SECRET)\n",
    "iam = boto3.client(\"iam\", region_name=\"us-west-2\", aws_access_key_id=AWS_KEY, aws_secret_access_key=AWS_SECRET)\n",
    "redshift = boto3.client(\"redshift\", region_name=\"us-west-2\", aws_access_key_id=AWS_KEY, aws_secret_access_key=AWS_SECRET)"
   ]
  },
  {
   "cell_type": "code",
   "execution_count": 62,
   "metadata": {},
   "outputs": [
    {
     "data": {
      "text/plain": [
       "True"
      ]
     },
     "execution_count": 62,
     "metadata": {},
     "output_type": "execute_result"
    }
   ],
   "source": [
    "def role_exists(iam, role_name):\n",
    "    try:\n",
    "        iam.get_role(RoleName=role_name)\n",
    "        return True\n",
    "    except iam.exceptions.NoSuchEntityException:\n",
    "        return False\n",
    "    \n",
    "def role_policy_exists(iam, role_name, policy_arn):\n",
    "    try:\n",
    "        iam.get_role_policy(RoleName=role_name, PolicyName=POLICY_NAME)\n",
    "        return True\n",
    "    except iam.exceptions.NoSuchEntityException:\n",
    "        return False\n",
    "    except Exception as e:\n",
    "        print(e)\n",
    "        return False\n",
    "    \n",
    "role_exists(iam, ROLE_NAME)"
   ]
  },
  {
   "cell_type": "code",
   "execution_count": null,
   "metadata": {},
   "outputs": [],
   "source": [
    "def create_role(iam, role_name: str = ROLE_NAME, description: str = DESCRIPTION, assume_role_policy_document: str = ASSUME_ROLE_POLICY_DOCUMENT):\n",
    "    if role_exists(iam, role_name):\n",
    "        print(\"Role already exists\")\n",
    "        return\n",
    "    else:\n",
    "        iam.create_role(\n",
    "            Path=\"/\",\n",
    "            RoleName=ROLE_NAME,\n",
    "            Description=DESCRIPTION,\n",
    "            AssumeRolePolicyDocument=ASSUME_ROLE_POLICY_DOCUMENT,\n",
    "        )"
   ]
  },
  {
   "cell_type": "code",
   "execution_count": 65,
   "metadata": {},
   "outputs": [
    {
     "data": {
      "text/plain": [
       "False"
      ]
     },
     "execution_count": 65,
     "metadata": {},
     "output_type": "execute_result"
    }
   ],
   "source": [
    "role_policy_exists(iam, ROLE_NAME, \"AmazonS3ReadOnlyAccess\")"
   ]
  },
  {
   "cell_type": "code",
   "execution_count": 53,
   "metadata": {},
   "outputs": [],
   "source": [
    "try:\n",
    "    role_arn = iam.get_role(RoleName=ROLE_NAME)[\"Role\"][\"Arn\"]\n",
    "except iam.exceptions.NoSuchEntityException as e:\n",
    "    iam.create_role(\n",
    "        Path=\"/\",\n",
    "        RoleName=ROLE_NAME,\n",
    "        Description=DESCRIPTION,\n",
    "        AssumeRolePolicyDocument=ASSUME_ROLE_POLICY_DOCUMENT,\n",
    "    )\n",
    "    role_arn = iam.get_role(RoleName=ROLE_NAME)[\"Role\"][\"Arn\"]"
   ]
  },
  {
   "cell_type": "code",
   "execution_count": 59,
   "metadata": {},
   "outputs": [
    {
     "name": "stdout",
     "output_type": "stream",
     "text": [
      "An error occurred (NoSuchEntity) when calling the DetachRolePolicy operation: Policy arn:aws:iam::aws:policy/AmazonS3ReadOnlyAccess was not found.\n"
     ]
    }
   ],
   "source": [
    "try:\n",
    "    iam.detach_role_policy(\n",
    "        RoleName=ROLE_NAME, \n",
    "        PolicyArn=POLICY_ARN\n",
    "    )\n",
    "except iam.exceptions.NoSuchEntityException as e:\n",
    "    print(e)"
   ]
  },
  {
   "cell_type": "code",
   "execution_count": 45,
   "metadata": {},
   "outputs": [
    {
     "data": {
      "text/plain": [
       "['add_client_id_to_open_id_connect_provider',\n",
       " 'add_role_to_instance_profile',\n",
       " 'add_user_to_group',\n",
       " 'attach_group_policy',\n",
       " 'attach_role_policy',\n",
       " 'attach_user_policy',\n",
       " 'can_paginate',\n",
       " 'change_password',\n",
       " 'close',\n",
       " 'create_access_key',\n",
       " 'create_account_alias',\n",
       " 'create_group',\n",
       " 'create_instance_profile',\n",
       " 'create_login_profile',\n",
       " 'create_open_id_connect_provider',\n",
       " 'create_policy',\n",
       " 'create_policy_version',\n",
       " 'create_role',\n",
       " 'create_saml_provider',\n",
       " 'create_service_linked_role',\n",
       " 'create_service_specific_credential',\n",
       " 'create_user',\n",
       " 'create_virtual_mfa_device',\n",
       " 'deactivate_mfa_device',\n",
       " 'delete_access_key',\n",
       " 'delete_account_alias',\n",
       " 'delete_account_password_policy',\n",
       " 'delete_group',\n",
       " 'delete_group_policy',\n",
       " 'delete_instance_profile',\n",
       " 'delete_login_profile',\n",
       " 'delete_open_id_connect_provider',\n",
       " 'delete_policy',\n",
       " 'delete_policy_version',\n",
       " 'delete_role',\n",
       " 'delete_role_permissions_boundary',\n",
       " 'delete_role_policy',\n",
       " 'delete_saml_provider',\n",
       " 'delete_server_certificate',\n",
       " 'delete_service_linked_role',\n",
       " 'delete_service_specific_credential',\n",
       " 'delete_signing_certificate',\n",
       " 'delete_ssh_public_key',\n",
       " 'delete_user',\n",
       " 'delete_user_permissions_boundary',\n",
       " 'delete_user_policy',\n",
       " 'delete_virtual_mfa_device',\n",
       " 'detach_group_policy',\n",
       " 'detach_role_policy',\n",
       " 'detach_user_policy',\n",
       " 'enable_mfa_device',\n",
       " 'exceptions',\n",
       " 'generate_credential_report',\n",
       " 'generate_organizations_access_report',\n",
       " 'generate_presigned_url',\n",
       " 'generate_service_last_accessed_details',\n",
       " 'get_access_key_last_used',\n",
       " 'get_account_authorization_details',\n",
       " 'get_account_password_policy',\n",
       " 'get_account_summary',\n",
       " 'get_context_keys_for_custom_policy',\n",
       " 'get_context_keys_for_principal_policy',\n",
       " 'get_credential_report',\n",
       " 'get_group',\n",
       " 'get_group_policy',\n",
       " 'get_instance_profile',\n",
       " 'get_login_profile',\n",
       " 'get_open_id_connect_provider',\n",
       " 'get_organizations_access_report',\n",
       " 'get_paginator',\n",
       " 'get_policy',\n",
       " 'get_policy_version',\n",
       " 'get_role',\n",
       " 'get_role_policy',\n",
       " 'get_saml_provider',\n",
       " 'get_server_certificate',\n",
       " 'get_service_last_accessed_details',\n",
       " 'get_service_last_accessed_details_with_entities',\n",
       " 'get_service_linked_role_deletion_status',\n",
       " 'get_ssh_public_key',\n",
       " 'get_user',\n",
       " 'get_user_policy',\n",
       " 'get_waiter',\n",
       " 'list_access_keys',\n",
       " 'list_account_aliases',\n",
       " 'list_attached_group_policies',\n",
       " 'list_attached_role_policies',\n",
       " 'list_attached_user_policies',\n",
       " 'list_entities_for_policy',\n",
       " 'list_group_policies',\n",
       " 'list_groups',\n",
       " 'list_groups_for_user',\n",
       " 'list_instance_profile_tags',\n",
       " 'list_instance_profiles',\n",
       " 'list_instance_profiles_for_role',\n",
       " 'list_mfa_device_tags',\n",
       " 'list_mfa_devices',\n",
       " 'list_open_id_connect_provider_tags',\n",
       " 'list_open_id_connect_providers',\n",
       " 'list_policies',\n",
       " 'list_policies_granting_service_access',\n",
       " 'list_policy_tags',\n",
       " 'list_policy_versions',\n",
       " 'list_role_policies',\n",
       " 'list_role_tags',\n",
       " 'list_roles',\n",
       " 'list_saml_provider_tags',\n",
       " 'list_saml_providers',\n",
       " 'list_server_certificate_tags',\n",
       " 'list_server_certificates',\n",
       " 'list_service_specific_credentials',\n",
       " 'list_signing_certificates',\n",
       " 'list_ssh_public_keys',\n",
       " 'list_user_policies',\n",
       " 'list_user_tags',\n",
       " 'list_users',\n",
       " 'list_virtual_mfa_devices',\n",
       " 'meta',\n",
       " 'put_group_policy',\n",
       " 'put_role_permissions_boundary',\n",
       " 'put_role_policy',\n",
       " 'put_user_permissions_boundary',\n",
       " 'put_user_policy',\n",
       " 'remove_client_id_from_open_id_connect_provider',\n",
       " 'remove_role_from_instance_profile',\n",
       " 'remove_user_from_group',\n",
       " 'reset_service_specific_credential',\n",
       " 'resync_mfa_device',\n",
       " 'set_default_policy_version',\n",
       " 'set_security_token_service_preferences',\n",
       " 'simulate_custom_policy',\n",
       " 'simulate_principal_policy',\n",
       " 'tag_instance_profile',\n",
       " 'tag_mfa_device',\n",
       " 'tag_open_id_connect_provider',\n",
       " 'tag_policy',\n",
       " 'tag_role',\n",
       " 'tag_saml_provider',\n",
       " 'tag_server_certificate',\n",
       " 'tag_user',\n",
       " 'untag_instance_profile',\n",
       " 'untag_mfa_device',\n",
       " 'untag_open_id_connect_provider',\n",
       " 'untag_policy',\n",
       " 'untag_role',\n",
       " 'untag_saml_provider',\n",
       " 'untag_server_certificate',\n",
       " 'untag_user',\n",
       " 'update_access_key',\n",
       " 'update_account_password_policy',\n",
       " 'update_assume_role_policy',\n",
       " 'update_group',\n",
       " 'update_login_profile',\n",
       " 'update_open_id_connect_provider_thumbprint',\n",
       " 'update_role',\n",
       " 'update_role_description',\n",
       " 'update_saml_provider',\n",
       " 'update_server_certificate',\n",
       " 'update_service_specific_credential',\n",
       " 'update_signing_certificate',\n",
       " 'update_ssh_public_key',\n",
       " 'update_user',\n",
       " 'upload_server_certificate',\n",
       " 'upload_signing_certificate',\n",
       " 'upload_ssh_public_key',\n",
       " 'waiter_names']"
      ]
     },
     "execution_count": 45,
     "metadata": {},
     "output_type": "execute_result"
    }
   ],
   "source": [
    "def get_dir(obj):\n",
    "    return [item for item in dir(obj) if not item.startswith(\"_\")]\n",
    "\n",
    "get_dir(iam)"
   ]
  },
  {
   "cell_type": "code",
   "execution_count": 19,
   "metadata": {},
   "outputs": [],
   "source": [
    "with open('../dwh.cfg') as f:\n",
    "    config.read_file(f)"
   ]
  },
  {
   "cell_type": "code",
   "execution_count": 22,
   "metadata": {},
   "outputs": [],
   "source": [
    "config[\"CLUSTER\"][\"Hostility\"] = \"blub\""
   ]
  },
  {
   "cell_type": "code",
   "execution_count": 20,
   "metadata": {},
   "outputs": [],
   "source": [
    "config[\"IAM_ROLE\"][\"ARN\"] = \"bla\""
   ]
  },
  {
   "cell_type": "code",
   "execution_count": 15,
   "metadata": {},
   "outputs": [],
   "source": [
    "config.add_section(\"SOMETHING\")"
   ]
  },
  {
   "cell_type": "code",
   "execution_count": 23,
   "metadata": {},
   "outputs": [],
   "source": [
    "with open('../dwh.cfg', 'w') as file:\n",
    "    config.write(file)"
   ]
  },
  {
   "cell_type": "code",
   "execution_count": null,
   "metadata": {},
   "outputs": [],
   "source": []
  }
 ],
 "metadata": {
  "kernelspec": {
   "display_name": "cloud-warehouse--FX0TuTV-py3.11",
   "language": "python",
   "name": "python3"
  },
  "language_info": {
   "codemirror_mode": {
    "name": "ipython",
    "version": 3
   },
   "file_extension": ".py",
   "mimetype": "text/x-python",
   "name": "python",
   "nbconvert_exporter": "python",
   "pygments_lexer": "ipython3",
   "version": "3.11.1"
  },
  "orig_nbformat": 4
 },
 "nbformat": 4,
 "nbformat_minor": 2
}
