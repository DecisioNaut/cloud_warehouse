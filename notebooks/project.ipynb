{
 "cells": [
  {
   "attachments": {},
   "cell_type": "markdown",
   "metadata": {},
   "source": [
    "### Imports & Settings"
   ]
  },
  {
   "cell_type": "code",
   "execution_count": 97,
   "metadata": {},
   "outputs": [],
   "source": [
    "## Imports\n",
    "\n",
    "# From standard library\n",
    "import json\n",
    "import logging\n",
    "import time\n",
    "from typing import Tuple\n",
    "\n",
    "# From third party\n",
    "import boto3\n",
    "import botocore\n",
    "from dotenv import dotenv_values\n",
    "import psycopg2"
   ]
  },
  {
   "cell_type": "code",
   "execution_count": 2,
   "metadata": {},
   "outputs": [],
   "source": [
    "# Logging configuration\n",
    "logging.basicConfig(\n",
    "    filename=\"./project.log\",\n",
    "    format=\"%(asctime)s - %(name)s - %(levelname)s - %(message)s\",\n",
    "    level=logging.INFO,\n",
    ")"
   ]
  },
  {
   "cell_type": "code",
   "execution_count": 3,
   "metadata": {},
   "outputs": [],
   "source": [
    "# Overall region\n",
    "REGION_NAME = \"us-west-2\"\n",
    "\n",
    "# Policies required\n",
    "REQUIRED_POLICIES = [\"AmazonRedshiftFullAccess\", \"AmazonS3ReadOnlyAccess\", \"IAMFullAccess\"]\n",
    "\n",
    "# IAM Role Global Variables\n",
    "ROLE_NAME = \"dwhRole\"\n",
    "ASSUME_ROLE_POLICY_DOCUMENT = {\n",
    "    \"Version\": \"2012-10-17\",\n",
    "    \"Statement\": [\n",
    "        {\n",
    "            \"Action\": \"sts:AssumeRole\",\n",
    "            \"Effect\": \"Allow\",\n",
    "            \"Principal\": {\"Service\": \"redshift.amazonaws.com\"},\n",
    "        }\n",
    "    ],\n",
    "}\n",
    "POLICY_ARN = \"arn:aws:iam::aws:policy/AmazonS3ReadOnlyAccess\"  # For attaching policies\n",
    "\n",
    "# Redshift Global Variables\n",
    "CLUSTER_IDENTIFIER = \"dwhCluster\"\n",
    "CLUSTER_TYPE = \"multi-node\"\n",
    "NUMBER_OF_NODES = 4\n",
    "NODE_TYPE = \"dc2.large\"\n",
    "DB_NAME = \"dwh\"\n",
    "MASTER_USER_NAME = \"dwhuser\"\n",
    "MASTER_USER_PASSWORD = \"Passw0rd\"\n",
    "\n",
    "# Connection Global Variables\n",
    "PORT = 5439\n",
    "CIDR_IP = \"0.0.0.0/0\"\n",
    "IP_PROTOCOL = \"TCP\""
   ]
  },
  {
   "cell_type": "code",
   "execution_count": 4,
   "metadata": {},
   "outputs": [],
   "source": [
    "# Get AWS credentials from .env file\n",
    "env = dotenv_values()\n",
    "\n",
    "AWS_ACCESS_KEY_ID = env[\"AWS_ACCESS_KEY_ID\"]\n",
    "AWS_SECRET_ACCESS_KEY = env[\"AWS_SECRET_ACCESS_KEY\"]"
   ]
  },
  {
   "attachments": {},
   "cell_type": "markdown",
   "metadata": {},
   "source": [
    "### Create Clients"
   ]
  },
  {
   "cell_type": "code",
   "execution_count": 5,
   "metadata": {},
   "outputs": [],
   "source": [
    "def create_clients(\n",
    "        aws_access_key_id: str, \n",
    "        aws_secret_access_key: str, \n",
    "        region_name: str = REGION_NAME\n",
    "    ) -> Tuple[botocore.client, ...]:\n",
    "    \"\"\"Creates the required clients for the project.\"\"\"\n",
    "    try:\n",
    "        sts = boto3.client(\n",
    "            \"sts\",\n",
    "            region_name=region_name,\n",
    "            aws_access_key_id=aws_access_key_id,\n",
    "            aws_secret_access_key=aws_secret_access_key,\n",
    "        )\n",
    "        iam = boto3.client(\n",
    "            \"iam\",\n",
    "            region_name=region_name,\n",
    "            aws_access_key_id=aws_access_key_id,\n",
    "            aws_secret_access_key=aws_secret_access_key,\n",
    "        )\n",
    "        s3 = boto3.client(\n",
    "            \"s3\",\n",
    "            region_name=region_name,\n",
    "            aws_access_key_id=aws_access_key_id,\n",
    "            aws_secret_access_key=aws_secret_access_key,\n",
    "        )\n",
    "        redshift = boto3.client(\n",
    "            \"redshift\",\n",
    "            region_name=region_name,\n",
    "            aws_access_key_id=aws_access_key_id,\n",
    "            aws_secret_access_key=aws_secret_access_key,\n",
    "        )\n",
    "        ec2 = boto3.client(\n",
    "            \"ec2\",\n",
    "            region_name=region_name,\n",
    "            aws_access_key_id=aws_access_key_id,\n",
    "            aws_secret_access_key=aws_secret_access_key,\n",
    "        )\n",
    "        return sts, iam, s3, redshift, ec2\n",
    "    except Exception as e:\n",
    "        logging.error(e)\n",
    "        raise e"
   ]
  },
  {
   "cell_type": "code",
   "execution_count": 6,
   "metadata": {},
   "outputs": [
    {
     "data": {
      "text/plain": [
       "(<botocore.client.STS at 0x1082d3ad0>,\n",
       " <botocore.client.IAM at 0x10d55f710>,\n",
       " <botocore.client.S3 at 0x10d8b4a10>,\n",
       " <botocore.client.Redshift at 0x10dc0a250>,\n",
       " <botocore.client.EC2 at 0x10df183d0>)"
      ]
     },
     "execution_count": 6,
     "metadata": {},
     "output_type": "execute_result"
    }
   ],
   "source": [
    "sts, iam, s3, redshift, ec2 = create_clients(AWS_ACCESS_KEY_ID, AWS_SECRET_ACCESS_KEY, region_name=REGION_NAME)\n",
    "sts, iam, s3, redshift, ec2"
   ]
  },
  {
   "attachments": {},
   "cell_type": "markdown",
   "metadata": {},
   "source": [
    "### Check User"
   ]
  },
  {
   "cell_type": "code",
   "execution_count": 7,
   "metadata": {},
   "outputs": [],
   "source": [
    "def get_user_name(\n",
    "        sts: botocore.client\n",
    "    ) -> str:\n",
    "    \"\"\"Get the user name from STS client.\"\"\"\n",
    "    try:\n",
    "        user_info = sts.get_caller_identity()\n",
    "        return user_info[\"Arn\"].split(\"/\")[1]\n",
    "    except Exception as e:\n",
    "        logging.error(e)\n",
    "        raise e"
   ]
  },
  {
   "cell_type": "code",
   "execution_count": 8,
   "metadata": {},
   "outputs": [
    {
     "data": {
      "text/plain": [
       "'airflow_redshift_user'"
      ]
     },
     "execution_count": 8,
     "metadata": {},
     "output_type": "execute_result"
    }
   ],
   "source": [
    "user_name = get_user_name(sts)\n",
    "user_name"
   ]
  },
  {
   "cell_type": "code",
   "execution_count": 9,
   "metadata": {},
   "outputs": [],
   "source": [
    "def user_has_required_policies(\n",
    "        iam: botocore.client,\n",
    "        user_name: str,\n",
    "        required_policies: list = REQUIRED_POLICIES\n",
    "    ) -> bool:\n",
    "    \"\"\"Check if the user has the required policies from IAM client.\"\"\"\n",
    "    try:\n",
    "        user_policies = iam.list_attached_user_policies(UserName=user_name)[\"AttachedPolicies\"]\n",
    "        user_policies = [policy[\"PolicyName\"] for policy in user_policies]\n",
    "        return all(policy in user_policies for policy in required_policies)\n",
    "    except Exception as e:\n",
    "        logging.error(e)\n",
    "        raise e"
   ]
  },
  {
   "cell_type": "code",
   "execution_count": 10,
   "metadata": {},
   "outputs": [
    {
     "data": {
      "text/plain": [
       "True"
      ]
     },
     "execution_count": 10,
     "metadata": {},
     "output_type": "execute_result"
    }
   ],
   "source": [
    "user_has_required_policies(iam, user_name=user_name, required_policies=REQUIRED_POLICIES)"
   ]
  },
  {
   "attachments": {},
   "cell_type": "markdown",
   "metadata": {},
   "source": [
    "### Role Handling"
   ]
  },
  {
   "cell_type": "code",
   "execution_count": 11,
   "metadata": {},
   "outputs": [],
   "source": [
    "def role_exists(\n",
    "    iam: botocore.client, \n",
    "    role_name: str = ROLE_NAME\n",
    ") -> bool:\n",
    "    \"\"\"Check if the role exists from IAM client.\"\"\"\n",
    "    try:\n",
    "        iam.get_role(RoleName=role_name)\n",
    "        return True\n",
    "    except iam.exceptions.NoSuchEntityException:\n",
    "        return False\n",
    "    except botocore.exceptions.ClientError as e:\n",
    "        logging.error(e)\n",
    "        raise e"
   ]
  },
  {
   "cell_type": "code",
   "execution_count": 12,
   "metadata": {},
   "outputs": [
    {
     "data": {
      "text/plain": [
       "True"
      ]
     },
     "execution_count": 12,
     "metadata": {},
     "output_type": "execute_result"
    }
   ],
   "source": [
    "role_exists(iam, role_name=ROLE_NAME)"
   ]
  },
  {
   "cell_type": "code",
   "execution_count": 13,
   "metadata": {},
   "outputs": [],
   "source": [
    "def create_role(\n",
    "        iam: botocore.client, \n",
    "        role_name: str = ROLE_NAME, \n",
    "        assume_role_policy_document: str = ASSUME_ROLE_POLICY_DOCUMENT\n",
    "    ) -> None:\n",
    "    \"\"\"Create the role from IAM client.\"\"\"\n",
    "    if not role_exists(iam, role_name):\n",
    "        try:\n",
    "            iam.create_role(\n",
    "                RoleName=role_name,\n",
    "                AssumeRolePolicyDocument=json.dumps(assume_role_policy_document),\n",
    "            )\n",
    "            waiter = iam.get_waiter(\"role_exists\")\n",
    "            waiter.wait(RoleName=role_name)\n",
    "            assert role_exists(iam, role_name), \"Something went wrong. Role was not created.\"\n",
    "        except Exception as e:\n",
    "            logging.error(e)\n",
    "            raise e"
   ]
  },
  {
   "cell_type": "code",
   "execution_count": 14,
   "metadata": {},
   "outputs": [],
   "source": [
    "create_role(iam)"
   ]
  },
  {
   "cell_type": "code",
   "execution_count": 15,
   "metadata": {},
   "outputs": [
    {
     "data": {
      "text/plain": [
       "True"
      ]
     },
     "execution_count": 15,
     "metadata": {},
     "output_type": "execute_result"
    }
   ],
   "source": [
    "role_exists(iam)"
   ]
  },
  {
   "cell_type": "code",
   "execution_count": 16,
   "metadata": {},
   "outputs": [],
   "source": [
    "def role_assumes_relavant_role_policy_document(\n",
    "    iam: botocore.client,\n",
    "    role_name: str = ROLE_NAME, \n",
    "    assume_role_policy_document: dict = ASSUME_ROLE_POLICY_DOCUMENT\n",
    ") -> bool:\n",
    "    \"\"\"Check if the role has the right required trust relationship from IAM client.\"\"\"\n",
    "    if role_exists(iam, role_name):\n",
    "        try:\n",
    "            role = iam.get_role(RoleName=role_name)\n",
    "            return role[\"Role\"][\"AssumeRolePolicyDocument\"] == assume_role_policy_document\n",
    "        except Exception as e:\n",
    "            logging.error(e)\n",
    "            raise e\n",
    "    else:\n",
    "        return False"
   ]
  },
  {
   "cell_type": "code",
   "execution_count": 17,
   "metadata": {},
   "outputs": [
    {
     "data": {
      "text/plain": [
       "True"
      ]
     },
     "execution_count": 17,
     "metadata": {},
     "output_type": "execute_result"
    }
   ],
   "source": [
    "role_assumes_relavant_role_policy_document(iam, role_name=ROLE_NAME, assume_role_policy_document=ASSUME_ROLE_POLICY_DOCUMENT)"
   ]
  },
  {
   "cell_type": "code",
   "execution_count": 18,
   "metadata": {},
   "outputs": [],
   "source": [
    "def role_has_required_policy_attached(\n",
    "    iam: botocore.client,\n",
    "    role_name: str = ROLE_NAME, \n",
    "    policy_arn: str = POLICY_ARN\n",
    ") -> bool:\n",
    "    \"\"\"Check if the role has the required policy attached from IAM client.\"\"\"\n",
    "    if role_exists(iam, role_name):\n",
    "        try:\n",
    "            role_policies = iam.list_attached_role_policies(RoleName=role_name)[\"AttachedPolicies\"]\n",
    "            role_policies = [policy[\"PolicyArn\"] for policy in role_policies]\n",
    "            return policy_arn in role_policies\n",
    "        except Exception as e:\n",
    "            logging.error(e)\n",
    "            raise e\n",
    "    else:\n",
    "        return False"
   ]
  },
  {
   "cell_type": "code",
   "execution_count": 19,
   "metadata": {},
   "outputs": [
    {
     "data": {
      "text/plain": [
       "True"
      ]
     },
     "execution_count": 19,
     "metadata": {},
     "output_type": "execute_result"
    }
   ],
   "source": [
    "role_has_required_policy_attached(iam, role_name=ROLE_NAME, policy_arn=POLICY_ARN)"
   ]
  },
  {
   "cell_type": "code",
   "execution_count": 20,
   "metadata": {},
   "outputs": [],
   "source": [
    "def attach_required_policy_to_role(\n",
    "    iam: botocore.client, \n",
    "    role_name: str = ROLE_NAME, \n",
    "    policy_arn: str = POLICY_ARN\n",
    "    ) -> None:\n",
    "    \"\"\"Attach the required policy to the user from IAM client.\"\"\"\n",
    "    if role_exists(iam, role_name) and not role_has_required_policy_attached(iam, role_name, policy_arn):\n",
    "        try:\n",
    "            iam.attach_role_policy(RoleName=role_name, PolicyArn=policy_arn)\n",
    "            # time.sleep(10)\n",
    "            assert role_has_required_policy_attached(iam, role_name, policy_arn), \"Something went wrong, Policy is not attached.\"\n",
    "        except Exception as e:\n",
    "            logging.error(e)\n",
    "            raise e"
   ]
  },
  {
   "cell_type": "code",
   "execution_count": 21,
   "metadata": {},
   "outputs": [],
   "source": [
    "attach_required_policy_to_role(iam, role_name=ROLE_NAME, policy_arn=POLICY_ARN)"
   ]
  },
  {
   "cell_type": "code",
   "execution_count": 22,
   "metadata": {},
   "outputs": [
    {
     "data": {
      "text/plain": [
       "True"
      ]
     },
     "execution_count": 22,
     "metadata": {},
     "output_type": "execute_result"
    }
   ],
   "source": [
    "role_has_required_policy_attached(iam, ROLE_NAME, POLICY_ARN)"
   ]
  },
  {
   "cell_type": "code",
   "execution_count": 23,
   "metadata": {},
   "outputs": [],
   "source": [
    "def role_completed(\n",
    "        iam: botocore.client, \n",
    "        role_name: str = ROLE_NAME, \n",
    "        assume_role_policy_document: dict = ASSUME_ROLE_POLICY_DOCUMENT, \n",
    "        policy_arn: str = POLICY_ARN\n",
    "    ) -> bool:\n",
    "    \"\"\"Check if the role is completed from IAM client.\"\"\"\n",
    "    return (\n",
    "        role_exists(iam, role_name) & \n",
    "        role_assumes_relavant_role_policy_document(iam, role_name, assume_role_policy_document) & \n",
    "        role_has_required_policy_attached(iam, role_name, policy_arn)\n",
    "    )"
   ]
  },
  {
   "cell_type": "code",
   "execution_count": 24,
   "metadata": {},
   "outputs": [
    {
     "data": {
      "text/plain": [
       "True"
      ]
     },
     "execution_count": 24,
     "metadata": {},
     "output_type": "execute_result"
    }
   ],
   "source": [
    "role_completed(iam, role_name=ROLE_NAME, assume_role_policy_document=ASSUME_ROLE_POLICY_DOCUMENT, policy_arn=POLICY_ARN)"
   ]
  },
  {
   "cell_type": "code",
   "execution_count": 25,
   "metadata": {},
   "outputs": [],
   "source": [
    "def build_role_as_necessary(\n",
    "    iam: botocore.client, \n",
    "    role_name: str = ROLE_NAME, \n",
    "    assume_role_policy_document: \n",
    "    dict = ASSUME_ROLE_POLICY_DOCUMENT, \n",
    "    policy_arn: str = POLICY_ARN\n",
    ") -> str:\n",
    "    \"\"\"Builds the role and the required compenents \n",
    "    if not already existing from IAM client and returns the ARN.\"\"\"\n",
    "    if not role_exists(iam, role_name):\n",
    "        create_role(iam, role_name, assume_role_policy_document)\n",
    "    if not role_assumes_relavant_role_policy_document(iam, role_name, assume_role_policy_document):\n",
    "        error_message = \"Role already exists but with a different trust relationship. Please visit the AWS console to amend the policy.\"\n",
    "        logging.error(error_message)\n",
    "        raise Exception(error_message)\n",
    "    if not role_has_required_policy_attached(iam, role_name, policy_arn):\n",
    "        attach_required_policy_to_role(iam, role_name, policy_arn)\n",
    "    assert role_completed(iam, role_name, assume_role_policy_document, policy_arn), \"Something went wrong. The role is not completed.\"\n",
    "    return iam.get_role(RoleName=role_name)[\"Role\"][\"Arn\"]"
   ]
  },
  {
   "cell_type": "code",
   "execution_count": 26,
   "metadata": {},
   "outputs": [
    {
     "data": {
      "text/plain": [
       "'arn:aws:iam::130246939765:role/dwhRole'"
      ]
     },
     "execution_count": 26,
     "metadata": {},
     "output_type": "execute_result"
    }
   ],
   "source": [
    "iam_roles = build_role_as_necessary(iam, role_name=ROLE_NAME, assume_role_policy_document=ASSUME_ROLE_POLICY_DOCUMENT, policy_arn=POLICY_ARN)\n",
    "iam_roles"
   ]
  },
  {
   "cell_type": "code",
   "execution_count": 27,
   "metadata": {},
   "outputs": [],
   "source": [
    "def destroy_role(\n",
    "    iam: botocore.client, \n",
    "    role_name: str = ROLE_NAME\n",
    ") -> None:\n",
    "    \"\"\"Destroys the role from IAM client by detaching all policies and deleting the role.\"\"\"\n",
    "    if role_exists(iam, role_name):\n",
    "        try:\n",
    "            role_policies = iam.list_attached_role_policies(RoleName=role_name)[\"AttachedPolicies\"]\n",
    "            for policy in role_policies:\n",
    "                iam.detach_role_policy(RoleName=role_name, PolicyArn=policy[\"PolicyArn\"])\n",
    "            iam.delete_role(RoleName=role_name)\n",
    "            assert not role_exists(iam, role_name), \"Something went wrong. The role still exists.\"\n",
    "        except Exception as e:\n",
    "            logging.error(e)\n",
    "            raise e"
   ]
  },
  {
   "cell_type": "code",
   "execution_count": 28,
   "metadata": {},
   "outputs": [],
   "source": [
    "destroy_role(iam)"
   ]
  },
  {
   "cell_type": "code",
   "execution_count": 29,
   "metadata": {},
   "outputs": [
    {
     "data": {
      "text/plain": [
       "False"
      ]
     },
     "execution_count": 29,
     "metadata": {},
     "output_type": "execute_result"
    }
   ],
   "source": [
    "role_exists(iam, role_name=ROLE_NAME)"
   ]
  },
  {
   "cell_type": "code",
   "execution_count": 30,
   "metadata": {},
   "outputs": [
    {
     "data": {
      "text/plain": [
       "'arn:aws:iam::130246939765:role/dwhRole'"
      ]
     },
     "execution_count": 30,
     "metadata": {},
     "output_type": "execute_result"
    }
   ],
   "source": [
    "iam_roles = build_role_as_necessary(iam, role_name=ROLE_NAME, assume_role_policy_document=ASSUME_ROLE_POLICY_DOCUMENT, policy_arn=POLICY_ARN)\n",
    "iam_roles"
   ]
  },
  {
   "attachments": {},
   "cell_type": "markdown",
   "metadata": {},
   "source": [
    "### Redshift Handling"
   ]
  },
  {
   "cell_type": "code",
   "execution_count": 31,
   "metadata": {},
   "outputs": [],
   "source": [
    "def redshift_cluster_exists(redshift: botocore.client, cluster_identifier: str = CLUSTER_IDENTIFIER) -> bool:\n",
    "    \"\"\"Check if the cluster exists from Redshift client.\"\"\"\n",
    "    try:\n",
    "        clusters = redshift.describe_clusters(ClusterIdentifier=cluster_identifier)[\"Clusters\"]\n",
    "        return len(clusters) == 1\n",
    "    except redshift.exceptions.ClusterNotFoundFault as e:\n",
    "        return False\n",
    "    except Exception as e:\n",
    "        logging.error(e)\n",
    "        raise e"
   ]
  },
  {
   "cell_type": "code",
   "execution_count": 32,
   "metadata": {},
   "outputs": [
    {
     "data": {
      "text/plain": [
       "True"
      ]
     },
     "execution_count": 32,
     "metadata": {},
     "output_type": "execute_result"
    }
   ],
   "source": [
    "redshift_cluster_exists(redshift, cluster_identifier=CLUSTER_IDENTIFIER)"
   ]
  },
  {
   "cell_type": "code",
   "execution_count": 33,
   "metadata": {},
   "outputs": [],
   "source": [
    "def create_redshift_cluster(\n",
    "    redshift: botocore.client, \n",
    "    iam_roles: str, \n",
    "    cluster_identifier: str = CLUSTER_IDENTIFIER, \n",
    "    cluster_type: str = CLUSTER_TYPE, \n",
    "    node_type: str = NODE_TYPE, \n",
    "    number_of_nodes: int = NUMBER_OF_NODES, \n",
    "    db_name: str = DB_NAME, \n",
    "    master_user_name: str = MASTER_USER_NAME,\n",
    "    master_user_password: str = MASTER_USER_PASSWORD, \n",
    ") -> str:\n",
    "    \"\"\"Creates the cluster from Redshift client.\"\"\"\n",
    "    try:\n",
    "        redshift.create_cluster(\n",
    "            IamRoles=[iam_roles],\n",
    "            ClusterIdentifier=cluster_identifier, \n",
    "            ClusterType=cluster_type, \n",
    "            NodeType=node_type, \n",
    "            NumberOfNodes=number_of_nodes, \n",
    "            DBName=db_name, \n",
    "            MasterUsername=master_user_name, \n",
    "            MasterUserPassword=master_user_password, \n",
    "        )\n",
    "        waiter = redshift.get_waiter(\"cluster_available\")\n",
    "        waiter.wait(ClusterIdentifier=cluster_identifier)\n",
    "        assert redshift_cluster_exists(redshift, cluster_identifier), \"Something went wrong. The cluster does not exist.\"\n",
    "        return redshift.describe_clusters(ClusterIdentifier=cluster_identifier)[\"Clusters\"][0][\"VpcSecurityGroups\"][0][\"VpcSecurityGroupId\"]\n",
    "    except redshift.exceptions.ClusterAlreadyExistsFault as e:\n",
    "        return redshift.describe_clusters(ClusterIdentifier=cluster_identifier)[\"Clusters\"][0][\"VpcSecurityGroups\"][0][\"VpcSecurityGroupId\"]\n",
    "    except Exception as e:\n",
    "        logging.error(e)\n",
    "        raise e "
   ]
  },
  {
   "cell_type": "code",
   "execution_count": 34,
   "metadata": {},
   "outputs": [
    {
     "data": {
      "text/plain": [
       "'sg-02c4055629a91d3aa'"
      ]
     },
     "execution_count": 34,
     "metadata": {},
     "output_type": "execute_result"
    }
   ],
   "source": [
    "group_id = create_redshift_cluster(redshift, iam_roles)\n",
    "group_id"
   ]
  },
  {
   "cell_type": "code",
   "execution_count": 35,
   "metadata": {},
   "outputs": [
    {
     "data": {
      "text/plain": [
       "True"
      ]
     },
     "execution_count": 35,
     "metadata": {},
     "output_type": "execute_result"
    }
   ],
   "source": [
    "redshift_cluster_exists(redshift, cluster_identifier=CLUSTER_IDENTIFIER)"
   ]
  },
  {
   "cell_type": "code",
   "execution_count": 36,
   "metadata": {},
   "outputs": [],
   "source": [
    "def redshift_cluster_is_available(\n",
    "    redshift: botocore.client,\n",
    "    cluster_identifier: str = CLUSTER_IDENTIFIER\n",
    ") -> bool:\n",
    "    \"\"\"Check if the cluster is available from Redshift client.\"\"\"\n",
    "    if redshift_cluster_exists(redshift, cluster_identifier):\n",
    "        try:\n",
    "            cluster_status = redshift.describe_clusters(ClusterIdentifier=cluster_identifier)[\"Clusters\"][0][\"ClusterStatus\"]\n",
    "            return cluster_status == \"available\"\n",
    "        except Exception as e:\n",
    "            logging.error(e)\n",
    "            raise e"
   ]
  },
  {
   "cell_type": "code",
   "execution_count": 37,
   "metadata": {},
   "outputs": [
    {
     "data": {
      "text/plain": [
       "True"
      ]
     },
     "execution_count": 37,
     "metadata": {},
     "output_type": "execute_result"
    }
   ],
   "source": [
    "redshift_cluster_is_available(redshift, cluster_identifier=CLUSTER_IDENTIFIER)"
   ]
  },
  {
   "cell_type": "code",
   "execution_count": 38,
   "metadata": {},
   "outputs": [],
   "source": [
    "def cluster_is_complete(\n",
    "    redshift: botocore.client, \n",
    "    iam_roles: str,\n",
    "    cluster_identifier: str = CLUSTER_IDENTIFIER,\n",
    "    node_type: str = NODE_TYPE,\n",
    "    number_of_nodes: int = NUMBER_OF_NODES,\n",
    "    db_name: str = DB_NAME,\n",
    "    master_user_name: str = MASTER_USER_NAME,\n",
    "    # port: int = PORT\n",
    ") -> bool:\n",
    "    \"\"\"Check if the cluster is complete from Redshift client.\"\"\"\n",
    "    try:\n",
    "        if not redshift_cluster_exists(redshift, cluster_identifier):\n",
    "            return False\n",
    "        elif not redshift_cluster_is_available(redshift, cluster_identifier):\n",
    "            return False\n",
    "        else:\n",
    "            cluster = redshift.describe_clusters(ClusterIdentifier=cluster_identifier)[\"Clusters\"][0]\n",
    "            return (\n",
    "                cluster[\"NodeType\"] == node_type and \n",
    "                cluster[\"NumberOfNodes\"] == number_of_nodes and \n",
    "                cluster[\"IamRoles\"][0][\"IamRoleArn\"] == iam_roles and\n",
    "                cluster[\"DBName\"] == db_name and\n",
    "                cluster[\"MasterUsername\"] == master_user_name \n",
    "            )\n",
    "    except Exception as e:\n",
    "        logging.error(e)\n",
    "        raise e"
   ]
  },
  {
   "cell_type": "code",
   "execution_count": 39,
   "metadata": {},
   "outputs": [
    {
     "data": {
      "text/plain": [
       "True"
      ]
     },
     "execution_count": 39,
     "metadata": {},
     "output_type": "execute_result"
    }
   ],
   "source": [
    "cluster_is_complete(redshift, iam_roles, cluster_identifier=CLUSTER_IDENTIFIER, node_type=NODE_TYPE, number_of_nodes=NUMBER_OF_NODES, db_name=DB_NAME, master_user_name=MASTER_USER_NAME)#, port=PORT)"
   ]
  },
  {
   "cell_type": "code",
   "execution_count": 40,
   "metadata": {},
   "outputs": [],
   "source": [
    "def get_redshift_host(redshift: botocore.client, cluster_identifier: str = CLUSTER_IDENTIFIER) -> str:\n",
    "    \"\"\"Get the host from Redshift client.\"\"\"\n",
    "    try:\n",
    "        return redshift.describe_clusters(ClusterIdentifier=cluster_identifier)[\"Clusters\"][0][\"Endpoint\"][\"Address\"]\n",
    "    except Exception as e:\n",
    "        logging.error(e)\n",
    "        raise e"
   ]
  },
  {
   "cell_type": "code",
   "execution_count": 42,
   "metadata": {},
   "outputs": [
    {
     "data": {
      "text/plain": [
       "'dwhcluster.cu0kxfsouwy2.us-west-2.redshift.amazonaws.com'"
      ]
     },
     "execution_count": 42,
     "metadata": {},
     "output_type": "execute_result"
    }
   ],
   "source": [
    "host = get_redshift_host(redshift, cluster_identifier=CLUSTER_IDENTIFIER)\n",
    "host"
   ]
  },
  {
   "cell_type": "code",
   "execution_count": 43,
   "metadata": {},
   "outputs": [],
   "source": [
    "def authorize_ingress(\n",
    "    ec2: botocore.client, \n",
    "    group_id: str, \n",
    "    cidr_ip: str = CIDR_IP,\n",
    "    ip_protocol: str = IP_PROTOCOL,\n",
    "    port: int = PORT\n",
    ") -> None:\n",
    "    \"\"\"Authorizes the ingress from EC2 client.\"\"\"\n",
    "    try:\n",
    "        ec2.authorize_security_group_ingress(\n",
    "            GroupId=group_id,\n",
    "            CidrIp=cidr_ip,\n",
    "            IpProtocol=ip_protocol,\n",
    "            FromPort=port,\n",
    "            ToPort=port,\n",
    "            )\n",
    "    except botocore.exceptions.ClientError as e:\n",
    "        if e.response['Error']['Code'] == 'InvalidPermission.Duplicate':\n",
    "            print('The rule already exists.')\n",
    "        else:\n",
    "            logging.error(e)\n",
    "            raise e\n",
    "    except Exception as e:\n",
    "        logging.error(e)\n",
    "        raise e"
   ]
  },
  {
   "cell_type": "code",
   "execution_count": 44,
   "metadata": {},
   "outputs": [],
   "source": [
    "authorize_ingress(ec2, group_id, cidr_ip=CIDR_IP, ip_protocol=IP_PROTOCOL, port=PORT)"
   ]
  },
  {
   "cell_type": "code",
   "execution_count": 45,
   "metadata": {},
   "outputs": [],
   "source": [
    "def ingress_is_authorized(\n",
    "    ec2: botocore.client, \n",
    "    group_id: str, \n",
    "    cidr_ip: str = CIDR_IP,\n",
    "    ip_protocol: str = IP_PROTOCOL,\n",
    "    port: int = PORT\n",
    ") -> bool:\n",
    "    \"\"\"Check if the ingress is authorized from EC2 client.\"\"\"\n",
    "    try:\n",
    "        ip_permission = ec2.describe_security_groups(GroupIds=[group_id])[\"SecurityGroups\"][0][\"IpPermissions\"][0]\n",
    "        if ip_permission.get(\"IpRanges\") == []:\n",
    "            return False\n",
    "        else:\n",
    "            return all([\n",
    "                ip_permission[\"IpProtocol\"] == ip_protocol.lower(), \n",
    "                ip_permission[\"IpRanges\"][0][\"CidrIp\"] == cidr_ip if ip_permission[\"IpRanges\"] != [] else False,\n",
    "                ip_permission[\"IpRanges\"][0][\"CidrIp\"] == cidr_ip,\n",
    "                ip_permission[\"FromPort\"] == port,\n",
    "                ip_permission[\"ToPort\"] == port,\n",
    "            ])\n",
    "    except Exception as e:\n",
    "        logging.error(e)\n",
    "        raise e"
   ]
  },
  {
   "cell_type": "code",
   "execution_count": 47,
   "metadata": {},
   "outputs": [
    {
     "data": {
      "text/plain": [
       "True"
      ]
     },
     "execution_count": 47,
     "metadata": {},
     "output_type": "execute_result"
    }
   ],
   "source": [
    "ingress_is_authorized(ec2, group_id, cidr_ip=CIDR_IP, ip_protocol=IP_PROTOCOL, port=PORT)"
   ]
  },
  {
   "attachments": {},
   "cell_type": "markdown",
   "metadata": {},
   "source": [
    "##### Check Database Connection"
   ]
  },
  {
   "cell_type": "code",
   "execution_count": 46,
   "metadata": {},
   "outputs": [
    {
     "data": {
      "text/plain": [
       "'UNICODE'"
      ]
     },
     "execution_count": 46,
     "metadata": {},
     "output_type": "execute_result"
    }
   ],
   "source": [
    "configuration = {\n",
    "    \"host\": host,\n",
    "    \"port\": PORT,\n",
    "    \"database\": DB_NAME,\n",
    "    \"user\": MASTER_USER_NAME,\n",
    "    \"password\": MASTER_USER_PASSWORD,\n",
    "}\n",
    "\n",
    "connection = psycopg2.connect(**configuration)\n",
    "cursor = connection.cursor()\n",
    "cursor.connection.encoding"
   ]
  },
  {
   "cell_type": "code",
   "execution_count": 48,
   "metadata": {},
   "outputs": [],
   "source": [
    "def revoke_ingress(ec2: botocore.client, group_id: str, cidr_ip: str = CIDR_IP, ip_protocol: str = IP_PROTOCOL, port: int = PORT) -> None:\n",
    "    \"\"\"Revokes the ingress from EC2 client.\"\"\"\n",
    "    try:\n",
    "        ec2.revoke_security_group_ingress(\n",
    "            GroupId=group_id,\n",
    "            IpProtocol=ip_protocol,\n",
    "            CidrIp=cidr_ip,\n",
    "            FromPort=port,\n",
    "            ToPort=port,\n",
    "            )\n",
    "    except Exception as e:\n",
    "        logging.error(e)\n",
    "        raise e        "
   ]
  },
  {
   "cell_type": "code",
   "execution_count": 49,
   "metadata": {},
   "outputs": [],
   "source": [
    "revoke_ingress(ec2, group_id, cidr_ip=CIDR_IP, ip_protocol=IP_PROTOCOL, port=PORT)"
   ]
  },
  {
   "cell_type": "code",
   "execution_count": 50,
   "metadata": {},
   "outputs": [
    {
     "data": {
      "text/plain": [
       "False"
      ]
     },
     "execution_count": 50,
     "metadata": {},
     "output_type": "execute_result"
    }
   ],
   "source": [
    "ingress_is_authorized(ec2, group_id, cidr_ip=CIDR_IP, ip_protocol=IP_PROTOCOL, port=PORT)"
   ]
  },
  {
   "cell_type": "code",
   "execution_count": 51,
   "metadata": {},
   "outputs": [],
   "source": [
    "def delete_cluster(redshift: botocore.client, cluster_identifier: str = CLUSTER_IDENTIFIER) -> None:\n",
    "    try:\n",
    "        redshift.delete_cluster(ClusterIdentifier=CLUSTER_IDENTIFIER, SkipFinalClusterSnapshot=True)\n",
    "        waiter = redshift.get_waiter(\"cluster_deleted\")\n",
    "        waiter.wait(ClusterIdentifier=CLUSTER_IDENTIFIER)\n",
    "    except botocore.exceptions.ClientError as e:\n",
    "        if e.response[\"Error\"][\"Code\"] == \"ClusterNotFound\":\n",
    "            print(\"Cluster not found.\")\n",
    "        else:\n",
    "            logging.error(e)\n",
    "            raise e\n",
    "    except Exception as e:\n",
    "        logging.error(e)\n",
    "        raise e"
   ]
  },
  {
   "cell_type": "code",
   "execution_count": 52,
   "metadata": {},
   "outputs": [],
   "source": [
    "delete_cluster(redshift, cluster_identifier=CLUSTER_IDENTIFIER)"
   ]
  },
  {
   "cell_type": "code",
   "execution_count": 53,
   "metadata": {},
   "outputs": [],
   "source": [
    "destroy_role(iam, role_name=ROLE_NAME)"
   ]
  },
  {
   "cell_type": "markdown",
   "metadata": {},
   "source": [
    "### Check S3 buckets"
   ]
  },
  {
   "cell_type": "code",
   "execution_count": 54,
   "metadata": {},
   "outputs": [],
   "source": [
    "log_data = 's3://udacity-dend/log_data'\n",
    "log_jsonpath = 's3://udacity-dend/log_json_path.json'\n",
    "song_data = 's3://udacity-dend/song_data'"
   ]
  },
  {
   "cell_type": "code",
   "execution_count": 117,
   "metadata": {},
   "outputs": [
    {
     "data": {
      "text/plain": [
       "{'artist': 'The Kooks',\n",
       " 'auth': 'Logged In',\n",
       " 'firstName': 'Sara',\n",
       " 'gender': 'F',\n",
       " 'itemInSession': 0,\n",
       " 'lastName': 'Johnson',\n",
       " 'length': 132.25751,\n",
       " 'level': 'paid',\n",
       " 'location': 'Winston-Salem, NC',\n",
       " 'method': 'PUT',\n",
       " 'page': 'NextSong',\n",
       " 'registration': 1540809153796.0,\n",
       " 'sessionId': 152,\n",
       " 'song': \"Eddie's Gun\",\n",
       " 'status': 200,\n",
       " 'ts': 1541260356796,\n",
       " 'userAgent': '\"Mozilla/5.0 (iPhone; CPU iPhone OS 7_1_2 like Mac OS X) AppleWebKit/537.51.2 (KHTML, like Gecko) Version/7.0 Mobile/11D257 Safari/9537.53\"',\n",
       " 'userId': '95'}"
      ]
     },
     "execution_count": 117,
     "metadata": {},
     "output_type": "execute_result"
    }
   ],
   "source": [
    "key = s3.list_objects(Bucket=\"udacity-dend\", Prefix=\"log_data\")[\"Contents\"][3][\"Key\"]\n",
    "json.loads(s3.get_object(Bucket=\"udacity-dend\", Key=key)[\"Body\"].read().decode().split(\"\\n\")[10])"
   ]
  },
  {
   "cell_type": "code",
   "execution_count": null,
   "metadata": {},
   "outputs": [],
   "source": []
  },
  {
   "cell_type": "code",
   "execution_count": 119,
   "metadata": {},
   "outputs": [
    {
     "data": {
      "text/plain": [
       "{'artist_id': 'ARMJAGH1187FB546F3',\n",
       " 'artist_latitude': 35.14968,\n",
       " 'artist_location': 'Memphis, TN',\n",
       " 'artist_longitude': -90.04892,\n",
       " 'artist_name': 'The Box Tops',\n",
       " 'duration': 148.03546,\n",
       " 'num_songs': 1,\n",
       " 'song_id': 'SOCIWDW12A8C13D406',\n",
       " 'title': 'Soul Deep',\n",
       " 'year': 1969}"
      ]
     },
     "execution_count": 119,
     "metadata": {},
     "output_type": "execute_result"
    }
   ],
   "source": [
    "key = s3.list_objects(Bucket=\"udacity-dend\", Prefix=\"song_data\")[\"Contents\"][3][\"Key\"]\n",
    "json.loads(s3.get_object(Bucket=\"udacity-dend\", Key=key)[\"Body\"].read().decode().split(\"\\n\")[0])"
   ]
  }
 ],
 "metadata": {
  "kernelspec": {
   "display_name": "cloud-warehouse--FX0TuTV-py3.11",
   "language": "python",
   "name": "python3"
  },
  "language_info": {
   "codemirror_mode": {
    "name": "ipython",
    "version": 3
   },
   "file_extension": ".py",
   "mimetype": "text/x-python",
   "name": "python",
   "nbconvert_exporter": "python",
   "pygments_lexer": "ipython3",
   "version": "3.11.1"
  },
  "orig_nbformat": 4
 },
 "nbformat": 4,
 "nbformat_minor": 2
}
